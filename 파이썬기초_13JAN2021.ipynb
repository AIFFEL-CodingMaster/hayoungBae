{
 "cells": [
  {
   "cell_type": "markdown",
   "metadata": {},
   "source": []
  },
  {
   "cell_type": "code",
   "execution_count": 45,
   "metadata": {},
   "outputs": [],
   "source": [
    "name = \"배하영\""
   ]
  },
  {
   "cell_type": "code",
   "execution_count": 46,
   "metadata": {},
   "outputs": [],
   "source": [
    "eng_name = \"hayoungBae\""
   ]
  },
  {
   "cell_type": "code",
   "execution_count": 47,
   "metadata": {},
   "outputs": [],
   "source": [
    "phone_number = \"010-1234-4567\""
   ]
  },
  {
   "cell_type": "code",
   "execution_count": 48,
   "metadata": {},
   "outputs": [
    {
     "name": "stdout",
     "output_type": "stream",
     "text": [
      " 배하영 \n",
      " hayoungBae \n",
      " 010-1234-4567\n",
      "\n",
      "배하영 \t hayoungBae \t 010-1234-4567\n"
     ]
    }
   ],
   "source": [
    "print(\"\",name, '\\n', eng_name, '\\n', phone_number)\n",
    "\n",
    "print()\n",
    "\n",
    "print(name, '\\t', eng_name, '\\t', phone_number)"
   ]
  },
  {
   "cell_type": "code",
   "execution_count": 49,
   "metadata": {},
   "outputs": [
    {
     "name": "stdout",
     "output_type": "stream",
     "text": [
      "배하영바보\n",
      "배하영바보 \n",
      " hayoungBABO\n",
      "9946 \t 배하영바보\n"
     ]
    }
   ],
   "source": [
    "name = \"배하영바보\"\n",
    "eng_name = \"hayoungBABO\"\n",
    "phone_number = \"9946\"\n",
    "\n",
    "print(name)\n",
    "print(name, '\\n', eng_name)\n",
    "\n",
    "print(phone_number ,'\\t', name)"
   ]
  },
  {
   "cell_type": "code",
   "execution_count": 50,
   "metadata": {},
   "outputs": [
    {
     "ename": "SyntaxError",
     "evalue": "invalid syntax (<ipython-input-50-5edfc40bef3c>, line 5)",
     "output_type": "error",
     "traceback": [
      "\u001b[0;36m  File \u001b[0;32m\"<ipython-input-50-5edfc40bef3c>\"\u001b[0;36m, line \u001b[0;32m5\u001b[0m\n\u001b[0;31m    print(\"numver_1 은 : \",(type(number_1)})\u001b[0m\n\u001b[0m                                         ^\u001b[0m\n\u001b[0;31mSyntaxError\u001b[0m\u001b[0;31m:\u001b[0m invalid syntax\n"
     ]
    }
   ],
   "source": [
    "\n",
    "\n",
    "number_1 = 1\n",
    "print(\"numver_1 은 : \", number_1)\n",
    "\n",
    "print()\n",
    "print(\"numver_1 은 : \",(type(number_1)})\n"
   ]
  },
  {
   "cell_type": "code",
   "execution_count": 7,
   "metadata": {},
   "outputs": [
    {
     "name": "stdout",
     "output_type": "stream",
     "text": [
      "1\n",
      "1\n"
     ]
    }
   ],
   "source": [
    "string_1 = \"가나다라마바사\"\n",
    "string_2 = 'abcdefg'\n",
    "\n",
    "print(1)\n",
    "print(\"1\")"
   ]
  },
  {
   "cell_type": "code",
   "execution_count": 8,
   "metadata": {},
   "outputs": [
    {
     "name": "stdout",
     "output_type": "stream",
     "text": [
      "abcdegfh\n"
     ]
    }
   ],
   "source": [
    "#한줄 출력\n",
    "print('abcd',end=\"\")\n",
    "print('egfh')"
   ]
  },
  {
   "cell_type": "code",
   "execution_count": 9,
   "metadata": {},
   "outputs": [
    {
     "name": "stdout",
     "output_type": "stream",
     "text": [
      "abcd  efgh  ihkl   "
     ]
    }
   ],
   "source": [
    "# 한칸 띄우고 출력\n",
    "\n",
    "print('abcd', end = \"  \")\n",
    "print('efgh', end = \"  \")\n",
    "print('ihkl', end = \"   \")"
   ]
  },
  {
   "cell_type": "code",
   "execution_count": 10,
   "metadata": {},
   "outputs": [
    {
     "name": "stdout",
     "output_type": "stream",
     "text": [
      "1.23\n",
      "1.235\n",
      "3.1416\n"
     ]
    }
   ],
   "source": [
    "#2자리 - 3번째 자리에서 반올림\n",
    "print(\"%.2f\" % 1.2332424)\n",
    "\n",
    "#3wkfl - 4 번째 자리에서 반올림\n",
    "print(\"%.3f\" % 1.2345654)\n",
    "\n",
    "#변수명으로 넣기\n",
    "pi = 3.141592\n",
    "print(\"%.4f\" %pi)"
   ]
  },
  {
   "cell_type": "code",
   "execution_count": 11,
   "metadata": {},
   "outputs": [
    {
     "name": "stdout",
     "output_type": "stream",
     "text": [
      "나는 10시에 집에 간다.\n",
      "나는 10시에 집간다.\n",
      "나는 10시에 집에 간다\n"
     ]
    }
   ],
   "source": [
    "#문자 고급 출력 ✨✨\n",
    "\n",
    "when = 10\n",
    "where = \"집\"\n",
    "\n",
    "\n",
    "print(\"나는 %d시에 %s에 간다.\" % (when,where))  \n",
    "print(\"나는 {}시에 {}간다.\".format(when,where))\n",
    "print(f\"나는 {when}시에 {where}에 간다\")   #  {변수} 출력  이게 제일 간단해서 추천"
   ]
  },
  {
   "cell_type": "code",
   "execution_count": 12,
   "metadata": {},
   "outputs": [
    {
     "name": "stdout",
     "output_type": "stream",
     "text": [
      "나는 노래방에서 100시간 노래부르러\n"
     ]
    }
   ],
   "source": [
    "when = 100\n",
    "where = \"노래방\"\n",
    "why = \"노래부르러\"\n",
    "print(f\"나는 {where}에서 {when}시간 {why}\")"
   ]
  },
  {
   "cell_type": "code",
   "execution_count": 13,
   "metadata": {},
   "outputs": [
    {
     "data": {
      "text/plain": [
       "float"
      ]
     },
     "execution_count": 13,
     "metadata": {},
     "output_type": "execute_result"
    }
   ],
   "source": [
    "#나누기\n",
    "# /, //\n",
    "\n",
    "\n",
    "a= 1\n",
    "b= 3\n",
    "type(a/b)"
   ]
  },
  {
   "cell_type": "code",
   "execution_count": 15,
   "metadata": {},
   "outputs": [
    {
     "name": "stdout",
     "output_type": "stream",
     "text": [
      "1\n"
     ]
    }
   ],
   "source": [
    "print(a%b)\n",
    "#a 를 b로 나누었을때 나머지\n",
    "# % 나머지 구하는것\n",
    "\n",
    "#if a % 2 == 0 : #짝수\n",
    "#if ㅁ % 2 != 0 : #홀수"
   ]
  },
  {
   "cell_type": "code",
   "execution_count": 16,
   "metadata": {},
   "outputs": [
    {
     "name": "stdout",
     "output_type": "stream",
     "text": [
      "5\n",
      "5\n"
     ]
    }
   ],
   "source": [
    "#// 몫을 구하는것 :  무조건 정수형태로 나타남\n",
    "#a를 b로 나누었을때 몫\n",
    "a=10\n",
    "b=2\n",
    "print(a//b) # a= 10, b =2\n",
    "#a를 11로 바꾸면?\n",
    "a= 11\n",
    "print(a//b)"
   ]
  },
  {
   "cell_type": "code",
   "execution_count": 17,
   "metadata": {},
   "outputs": [
    {
     "name": "stdout",
     "output_type": "stream",
     "text": [
      "1\n"
     ]
    }
   ],
   "source": [
    "print(a%b)"
   ]
  },
  {
   "cell_type": "code",
   "execution_count": 18,
   "metadata": {},
   "outputs": [
    {
     "name": "stdout",
     "output_type": "stream",
     "text": [
      "3\n",
      "3단\n",
      "3 x 1 =3\n",
      "3 x 2 =6\n",
      "3 x 3 =9\n",
      "3 x 4 =12\n",
      "3 x 5 =15\n",
      "3 x 6 =18\n",
      "3 x 7 =21\n",
      "3 x 8 =24\n",
      "3 x 9 =27\n"
     ]
    }
   ],
   "source": [
    "num = int(input())  #input(\"숫자를 입력해주세요\")라고 쓰면 input할때 뜸\n",
    "\n",
    "#input은 사용자에게 변수를 입력받는것\n",
    "\n",
    "print(f\"{num}단\")\n",
    "print(f'{num} x 1 ={num*1}')\n",
    "print(f'{num} x 2 ={num*2}')\n",
    "print(f'{num} x 3 ={num*3}')\n",
    "print(f'{num} x 4 ={num*4}')\n",
    "print(f'{num} x 5 ={num*5}')\n",
    "print(f'{num} x 6 ={num*6}')\n",
    "print(f'{num} x 7 ={num*7}')\n",
    "print(f'{num} x 8 ={num*8}')\n",
    "print(f'{num} x 9 ={num*9}')\n"
   ]
  },
  {
   "cell_type": "markdown",
   "metadata": {},
   "source": [
    "## 산술 연산자\n",
    "- list : 어떤 객체던 여러개를 자유롭게 담았다 뺏다 할 수있는 통로로\n",
    "\n",
    "- set : 어떤 객체던 중복없이 담을 수 있는통(중복이 있나 없나, 어떤 차이가 있는지 확인할때)\n",
    "\n",
    "- tuple : 어떤 객체던 여러개를 자유롭게 담았다 할 수 있는통 // 자유롭게 담기만 가능\n",
    "\n",
    "- bool : 참 거짓을 나타내는 data type\n",
    "\n"
   ]
  },
  {
   "cell_type": "code",
   "execution_count": null,
   "metadata": {},
   "outputs": [],
   "source": [
    "list_append(temp)\n",
    "list_a = list_a + [Temp]\n",
    "\n",
    "list_b = [1,'이',temp, Temp]"
   ]
  },
  {
   "cell_type": "code",
   "execution_count": null,
   "metadata": {},
   "outputs": [],
   "source": [
    "dir(list_a)"
   ]
  },
  {
   "cell_type": "code",
   "execution_count": 20,
   "metadata": {},
   "outputs": [
    {
     "ename": "IndexError",
     "evalue": "list index out of range",
     "output_type": "error",
     "traceback": [
      "\u001b[0;31m---------------------------------------------------------------------------\u001b[0m",
      "\u001b[0;31mIndexError\u001b[0m                                Traceback (most recent call last)",
      "\u001b[0;32m<ipython-input-20-620e7e4be8d8>\u001b[0m in \u001b[0;36m<module>\u001b[0;34m\u001b[0m\n\u001b[1;32m      1\u001b[0m \u001b[0mlist_a\u001b[0m \u001b[0;34m=\u001b[0m \u001b[0;34m[\u001b[0m\u001b[0;36m1\u001b[0m\u001b[0;34m,\u001b[0m\u001b[0;36m2\u001b[0m\u001b[0;34m,\u001b[0m\u001b[0;36m3\u001b[0m\u001b[0;34m,\u001b[0m\u001b[0;36m4\u001b[0m\u001b[0;34m]\u001b[0m\u001b[0;34m\u001b[0m\u001b[0;34m\u001b[0m\u001b[0m\n\u001b[1;32m      2\u001b[0m \u001b[0;34m\u001b[0m\u001b[0m\n\u001b[0;32m----> 3\u001b[0;31m \u001b[0mlist_a\u001b[0m\u001b[0;34m[\u001b[0m\u001b[0;36m4\u001b[0m\u001b[0;34m]\u001b[0m  \u001b[0;31m#이렇게 에러가 남\u001b[0m\u001b[0;34m\u001b[0m\u001b[0;34m\u001b[0m\u001b[0m\n\u001b[0m",
      "\u001b[0;31mIndexError\u001b[0m: list index out of range"
     ]
    }
   ],
   "source": [
    "list_a = [1,2,3,4]\n",
    "\n",
    "list_a[4]  #이렇게 에러가 남 "
   ]
  },
  {
   "cell_type": "code",
   "execution_count": 21,
   "metadata": {},
   "outputs": [
    {
     "name": "stdout",
     "output_type": "stream",
     "text": [
      "{1, 2, 3}\n"
     ]
    }
   ],
   "source": [
    "set_a = {1,1,2,2,2,2,3,3}\n",
    "\n",
    "print(set_a)"
   ]
  },
  {
   "cell_type": "code",
   "execution_count": 22,
   "metadata": {},
   "outputs": [
    {
     "name": "stdout",
     "output_type": "stream",
     "text": [
      "{1, 4}\n"
     ]
    }
   ],
   "source": [
    "set_a.add(4)\n",
    "set_a = set_a - {2,3}\n",
    "\n",
    "print(set_a)"
   ]
  },
  {
   "cell_type": "code",
   "execution_count": 23,
   "metadata": {},
   "outputs": [
    {
     "name": "stdout",
     "output_type": "stream",
     "text": [
      "{1, 2}\n"
     ]
    }
   ],
   "source": [
    "#집합의 차집합을 생각해보자 \n",
    "\n",
    "a = {1,2,3,4}\n",
    "b = {3,4,5}\n",
    "\n",
    "print(a-b)\n"
   ]
  },
  {
   "cell_type": "code",
   "execution_count": 24,
   "metadata": {},
   "outputs": [],
   "source": [
    "\n",
    "#튜플은 수정이 안되서 리스트보다 메모리가 작다\n",
    "\n",
    "tuple_a = (1, '이', 3)\n",
    "\n"
   ]
  },
  {
   "cell_type": "code",
   "execution_count": 25,
   "metadata": {},
   "outputs": [
    {
     "name": "stdout",
     "output_type": "stream",
     "text": [
      "140613807059264\n"
     ]
    }
   ],
   "source": [
    "#비교\n",
    "\n",
    "a = [1,2,3]\n",
    "b = 100\n",
    "c = 100.0\n",
    "\n",
    "# 각 변수의 메모리 주소 값을 찾는 법 :id()\n",
    "print(id(a))"
   ]
  },
  {
   "cell_type": "code",
   "execution_count": 26,
   "metadata": {},
   "outputs": [
    {
     "name": "stdout",
     "output_type": "stream",
     "text": [
      "False\n"
     ]
    }
   ],
   "source": [
    "# is 로 비교\n",
    "\n",
    "print(a is b)\n",
    "\n",
    "#주소 값이 다 다르기 때문에 모두 false가 출력됨\n"
   ]
  },
  {
   "cell_type": "code",
   "execution_count": 27,
   "metadata": {},
   "outputs": [
    {
     "name": "stdout",
     "output_type": "stream",
     "text": [
      "94372177973088\n",
      "94372177973088\n",
      "True\n"
     ]
    }
   ],
   "source": [
    "d = 100\n",
    "\n",
    "print(id(b))\n",
    "print(id(d))\n",
    "print(d is b)"
   ]
  },
  {
   "cell_type": "code",
   "execution_count": 28,
   "metadata": {},
   "outputs": [],
   "source": [
    "#b와 c는 값을 비교 했을 때는 같음\n",
    "\n"
   ]
  },
  {
   "cell_type": "code",
   "execution_count": 29,
   "metadata": {},
   "outputs": [
    {
     "name": "stdout",
     "output_type": "stream",
     "text": [
      "False\n"
     ]
    }
   ],
   "source": [
    "#a is d는 true일까?\n",
    "a = [2,3,4]\n",
    "d = [1,2,3]\n",
    "\n",
    "print(a is b)"
   ]
  },
  {
   "cell_type": "code",
   "execution_count": 30,
   "metadata": {},
   "outputs": [],
   "source": [
    "#우리가 만드는 변수는 값이 같아도 다른 메모리 주소를 가지기 때문에  fase가 나온것??\n",
    "\n",
    "\n",
    "#정수는 0~256까지는 같은 주소값이 정해져있어서 때문에 정수는 예외이다.\n",
    "\n",
    "c = 100.0\n",
    "d = 100.0\n"
   ]
  },
  {
   "cell_type": "markdown",
   "metadata": {},
   "source": [
    "## if문"
   ]
  },
  {
   "cell_type": "code",
   "execution_count": 31,
   "metadata": {},
   "outputs": [
    {
     "name": "stdout",
     "output_type": "stream",
     "text": [
      "55\n",
      "100보다 작음\n"
     ]
    }
   ],
   "source": [
    "list_1 = [1,2,3,4,5,6,7,8,9,10]\n",
    "\n",
    "\n",
    "#만약 lsit_1의 합이 100보다 작으면 print실행\n",
    "\n",
    "if sum(list_1)<100 : \n",
    "  print(sum(list_1))\n",
    "  print(\"100보다 작음\")"
   ]
  },
  {
   "cell_type": "code",
   "execution_count": 32,
   "metadata": {},
   "outputs": [
    {
     "ename": "SyntaxError",
     "evalue": "EOL while scanning string literal (<ipython-input-32-1d2af3207c9d>, line 4)",
     "output_type": "error",
     "traceback": [
      "\u001b[0;36m  File \u001b[0;32m\"<ipython-input-32-1d2af3207c9d>\"\u001b[0;36m, line \u001b[0;32m4\u001b[0m\n\u001b[0;31m    print(\"list_q의 합은 55 인데 100보다 크다라는 조건이 틀려서어차피 이 print는 실행\u001b[0m\n\u001b[0m                                                             ^\u001b[0m\n\u001b[0;31mSyntaxError\u001b[0m\u001b[0;31m:\u001b[0m EOL while scanning string literal\n"
     ]
    }
   ],
   "source": [
    "#만약 조건이 맞지 않으면?\n",
    "\n",
    "if sum(list_1) > 100 :\n",
    "  print(\"list_q의 합은 55 인데 100보다 크다라는 조건이 틀려서어차피 이 print는 실행\n",
    "  안됨\")"
   ]
  },
  {
   "cell_type": "code",
   "execution_count": 33,
   "metadata": {},
   "outputs": [
    {
     "name": "stdout",
     "output_type": "stream",
     "text": [
      "위에 쓴 두 조건이 틀렸기 때문에 이게 실행됨\n"
     ]
    }
   ],
   "source": [
    "#여러가지 조건을 걸고 싶다\n",
    "#조건은 위에서부터 차례대로 검증\n",
    "\n",
    "if sum(list_1) > 100 :\n",
    "  print(\"조건이 틀려서 안됨\")\n",
    "elif sum(list_1) > 70 :\n",
    "  print(\"이것도 어차피 실행 안됨, 55는 70보다 작기때문\")\n",
    "else:\n",
    "  print(\"위에 쓴 두 조건이 틀렸기 때문에 이게 실행됨\")\n",
    "\n"
   ]
  },
  {
   "cell_type": "code",
   "execution_count": 34,
   "metadata": {},
   "outputs": [
    {
     "name": "stdout",
     "output_type": "stream",
     "text": [
      "[1, 2, 3, 4, 5, 6, 7, 8, 9, 10, 11]\n"
     ]
    }
   ],
   "source": [
    "#if도 맞고 elif도 맞다면?\n",
    "\n",
    "if list_1[0] == 1:\n",
    "  list_1.append(11)\n",
    "  print(list_1)\n",
    "elif list_1[1] > 0 :\n",
    "  print(\"이것이 실행 될까요?\")"
   ]
  },
  {
   "cell_type": "markdown",
   "metadata": {},
   "source": [
    "## 조건이 둘다 맞을때 처음 맞은 if 문만 실행되는 이유\n",
    "\n",
    "- if 조건문은 위에서 붙 아래로 내려오면서 실행이 되고 조건을 만족하는 순가 아래의 코드를 실행하고 다음 elif조건문을 실행하지 않고 끝이나서 안됩니다."
   ]
  },
  {
   "cell_type": "code",
   "execution_count": 35,
   "metadata": {},
   "outputs": [
    {
     "name": "stdout",
     "output_type": "stream",
     "text": [
      "list_2는 존재하니깐 실행\n"
     ]
    }
   ],
   "source": [
    "#여러가지 조건을 만드는 법\n",
    "\n",
    "list_2 = [\"A\",\"B\",\"C\"]\n",
    "\n",
    "#list_2가 존재하면 조건문 실행\n",
    "if list_2:\n",
    "  print(\"list_2는 존재하니깐 실행\")\n",
    "  "
   ]
  },
  {
   "cell_type": "code",
   "execution_count": 36,
   "metadata": {},
   "outputs": [
    {
     "name": "stdout",
     "output_type": "stream",
     "text": [
      "list_3 :  [3, 4, 5]\n"
     ]
    }
   ],
   "source": [
    "# 조건문이 실행되게 만들어보기\n",
    "\n",
    "list_3 = [3,4,5]\n",
    "if len(list_3) < 10 : \n",
    "  print(\"list_3 : \" , list_3)"
   ]
  },
  {
   "cell_type": "code",
   "execution_count": 37,
   "metadata": {},
   "outputs": [
    {
     "ename": "SyntaxError",
     "evalue": "invalid syntax (<ipython-input-37-28ac2f4b6332>, line 6)",
     "output_type": "error",
     "traceback": [
      "\u001b[0;36m  File \u001b[0;32m\"<ipython-input-37-28ac2f4b6332>\"\u001b[0;36m, line \u001b[0;32m6\u001b[0m\n\u001b[0;31m    if type(a) == set\u001b[0m\n\u001b[0m                     ^\u001b[0m\n\u001b[0;31mSyntaxError\u001b[0m\u001b[0;31m:\u001b[0m invalid syntax\n"
     ]
    }
   ],
   "source": [
    "# a의 type이 set이면 조건문 실행\n",
    "\n",
    "\n",
    "a = [1,2,3]\n",
    "\n",
    "if type(a) == set\n",
    "  print('type of a : set')\n",
    "\n"
   ]
  },
  {
   "cell_type": "markdown",
   "metadata": {},
   "source": [
    "## while 문"
   ]
  },
  {
   "cell_type": "code",
   "execution_count": 38,
   "metadata": {},
   "outputs": [],
   "source": [
    "#list "
   ]
  },
  {
   "cell_type": "code",
   "execution_count": 39,
   "metadata": {},
   "outputs": [],
   "source": [
    "#주의할점\n",
    "# while 반복문을 돌면서 조건을 만족하지 ㅇ낳도록 만들지 않는다면 무한 루프에 빠짐\n",
    "\n",
    "n= 10\n",
    "# while n > 0 :\n",
    "\n",
    "#실행ㅇ하면 무한 루프에 빠집니다"
   ]
  },
  {
   "cell_type": "code",
   "execution_count": 40,
   "metadata": {},
   "outputs": [
    {
     "name": "stdout",
     "output_type": "stream",
     "text": [
      "곧 끝나는 루프\n",
      "곧 끝나는 루프\n",
      "곧 끝나는 루프\n",
      "곧 끝나는 루프\n",
      "곧 끝나는 루프\n",
      "곧 끝나는 루프\n",
      "곧 끝나는 루프\n",
      "곧 끝나는 루프\n",
      "곧 끝나는 루프\n",
      "곧 끝나는 루프\n"
     ]
    }
   ],
   "source": [
    "n = 10\n",
    "while n > 0:\n",
    "  print(\"곧 끝나는 루프\")\n",
    "\n",
    "  #반복문이 한바퀴 돌때마다 n을 1씩 감소시켜주면 언젠가 0 보다 크지 않은 순간이 오고 \n",
    "  #반복문이 끝남\n",
    "  n = n - 1"
   ]
  },
  {
   "cell_type": "code",
   "execution_count": 42,
   "metadata": {},
   "outputs": [],
   "source": [
    "# 반복문을 강제로 끝내는 법\n",
    "\n",
    "#break\n"
   ]
  },
  {
   "cell_type": "code",
   "execution_count": null,
   "metadata": {},
   "outputs": [],
   "source": [
    "#조건문을 사용해서 조건을 만족하면 강제로 끝내기\n",
    "n = 10\n",
    "while n > 0:\n",
    "  print(\"n :\", n)\n",
    "  n = n -1\n",
    "  #n이 5가 되는 순간 반복문 종료\n",
    "\n",
    "  if n == 5:\n",
    "      break\n"
   ]
  }
 ],
 "metadata": {
  "kernelspec": {
   "display_name": "Python 3",
   "language": "python",
   "name": "python3"
  },
  "language_info": {
   "codemirror_mode": {
    "name": "ipython",
    "version": 3
   },
   "file_extension": ".py",
   "mimetype": "text/x-python",
   "name": "python",
   "nbconvert_exporter": "python",
   "pygments_lexer": "ipython3",
   "version": "3.7.6"
  }
 },
 "nbformat": 4,
 "nbformat_minor": 4
}
