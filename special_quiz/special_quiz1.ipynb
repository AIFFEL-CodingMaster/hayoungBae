{
 "cells": [
  {
   "cell_type": "markdown",
   "metadata": {},
   "source": [
    "1.결과예시 \n",
    "\n",
    "player_ 1 : 가위, 바위, 보 중에 하나를 입력하세요 : 가위   \n",
    "player_ 2 : 가위, 바위, 보 중에 하나를 입력하세요 : 바위\n",
    "\n",
    "경기 결과 : player_2 승"
   ]
  },
  {
   "cell_type": "markdown",
   "metadata": {},
   "source": [
    "2.\n",
    "\n",
    "player_ 1 : 가위, 바위, 보 중에 하나를 입력하세요 : 바위   \n",
    "player_ 2 : 가위, 바위, 보 중에 하나를 입력하세요 : 바위\n",
    "\n",
    "경기 결과 : 비김"
   ]
  },
  {
   "cell_type": "markdown",
   "metadata": {},
   "source": [
    "3.\n",
    "\n",
    "player_ 1 : 가위, 바위, 보 중에 하나를 입력하세요 : 개위   \n",
    "player_ 2 : 가위, 바위, 보 중에 하나를 입력하세요 : 배위\n",
    "\n",
    "잘못된 입력을 하였습니다. "
   ]
  },
  {
   "cell_type": "code",
   "execution_count": null,
   "metadata": {},
   "outputs": [],
   "source": [
    "player_1 = input(\"player_1 : 가위, 바위, 보 중에 하나를 입력하세요 : \")\n",
    "player_2 = input(\"player_2 : 가위, 바위, 보 중에 하나를 입력하세요 : \")\n",
    "\n",
    "\n",
    "\n",
    "play = [\"가위\",\"바위\",\"보\"]\n",
    "\n",
    "if (player1 == play[1]):\n",
    "    print(\"경기결과 : player_2 승\")\n",
    "    \n",
    "elif (player_1 == player2):\n",
    "    print(\"경기결과 : 비김\")\n",
    "\n",
    "else:\n",
    "    print(\"잘못된 입력을 하였습니다.\")\n",
    "    \n",
    "    \n"
   ]
  },
  {
   "cell_type": "code",
   "execution_count": 6,
   "metadata": {},
   "outputs": [
    {
     "name": "stdout",
     "output_type": "stream",
     "text": [
      "player_1 : 가위, 바위, 보 중에 하나를 입력하세요 : 바위\n",
      "player_2 : 가위, 바위, 보 중에 하나를 입력하세요 : 보\n",
      "잘못된 입력을 하였습니다.\n"
     ]
    }
   ],
   "source": [
    "player_1 = input(\"player_1 : 가위, 바위, 보 중에 하나를 입력하세요 : \")\n",
    "player_2 = input(\"player_2 : 가위, 바위, 보 중에 하나를 입력하세요 : \")\n",
    "\n",
    "#pl_1 = player_1\n",
    "#pl_2 = player_2\n",
    "\n",
    "\n",
    "player_1 = pl_1\n",
    "player_2 = pl_2\n",
    "\n",
    "pl_1 = [\"가위\",\"바위\",\"보\"]\n",
    "pl_2 = [\"가위\",\"바위\",\"보\"]\n",
    "\n",
    "if pl_1 == \"가위\":\n",
    "    if pl_1 == pl_2:\n",
    "        print('경기 결과 : 비김')\n",
    "    elif pl_2 == \"바위\":\n",
    "        print('경기 결과 : player_2 승')\n",
    "    elif pl_2 == \"보\":\n",
    "        print('경기 결과 : player_1 승')\n",
    "        \n",
    "if pl_1 == \"바위\":\n",
    "    if pl_1 == pl_2:\n",
    "        print('경기 결과 : 비김')\n",
    "    elif pl_2 == \"보\":\n",
    "        print('경기 결과 : player_2 승')\n",
    "    elif pl_2 == \"가위\":\n",
    "        print('경기 결과 : player_1 승')\n",
    "        \n",
    "if pl_1 == \"보\":\n",
    "    if pl_1 == pl_2:\n",
    "        print('경기 결과 : 비김')\n",
    "    elif pl_2 == \"가위\":\n",
    "        print('경기 결과 : player_2 승')\n",
    "    elif pl_2 == \"바위\":\n",
    "        print('경기 결과 : player_1 승')   \n",
    "        \n",
    "else :\n",
    "    print(\"잘못된 입력을 하였습니다.\")"
   ]
  },
  {
   "cell_type": "code",
   "execution_count": 20,
   "metadata": {},
   "outputs": [
    {
     "name": "stdout",
     "output_type": "stream",
     "text": [
      "player_1 : 가위, 바위, 보 중에 하나를 입력하세요 : 바위\n",
      "player_2 : 가위, 바위, 보 중에 하나를 입력하세요 : 보\n",
      "잘못된 입력을 하였습니다.\n"
     ]
    }
   ],
   "source": [
    "pl_1 = input(\"player_1 : 가위, 바위, 보 중에 하나를 입력하세요 : \")\n",
    "pl_2 = input(\"player_2 : 가위, 바위, 보 중에 하나를 입력하세요 : \")\n",
    "\n",
    "#pl_1 = player_1\n",
    "#pl_2 = player_2\n",
    "\n",
    "\n",
    "#player_1 = pl_1\n",
    "#player_2 = pl_2\n",
    "\n",
    "pl_1 = [\"가위\",\"바위\",\"보\"]\n",
    "pl_2 = [\"가위\",\"바위\",\"보\"]\n",
    "\n",
    "if pl_1 == \"가위\":\n",
    "    if pl_1 == pl_2:\n",
    "        print('경기 결과 : 비김')\n",
    "elif pl_2 == \"바위\":\n",
    "     print('경기 결과 : player_2 승')\n",
    "elif pl_2 == \"보\":\n",
    "     print('경기 결과 : player_1 승')\n",
    "        \n",
    "if pl_1 == \"바위\":\n",
    "    if pl_1 == pl_2:\n",
    "        print('경기 결과 : 비김')\n",
    "elif pl_2 == \"보\":\n",
    "     print('경기 결과 : player_2 승')\n",
    "elif pl_2 == \"가위\":\n",
    "     print('경기 결과 : player_1 승')\n",
    "        \n",
    "if pl_1 == \"보\":\n",
    "    if pl_1 == pl_2:\n",
    "        print('경기 결과 : 비김')\n",
    "elif pl_2 == \"가위\":\n",
    "    print('경기 결과 : player_2 승')\n",
    "elif pl_2 == \"바위\":\n",
    "    print('경기 결과 : player_1 승')   \n",
    "        \n",
    "else :\n",
    "    print(\"잘못된 입력을 하였습니다.\")"
   ]
  },
  {
   "cell_type": "code",
   "execution_count": 16,
   "metadata": {},
   "outputs": [
    {
     "name": "stdout",
     "output_type": "stream",
     "text": [
      "player_1 : 가위, 바위, 보 중에 하나를 입력하세요 : 가위\n",
      "player_2 : 가위, 바위, 보 중에 하나를 입력하세요 : 가위\n",
      "경기 결과 : 비김\n"
     ]
    }
   ],
   "source": [
    "pl_1 = input(\"player_1 : 가위, 바위, 보 중에 하나를 입력하세요 : \")\n",
    "pl_2 = input(\"player_2 : 가위, 바위, 보 중에 하나를 입력하세요 : \")\n",
    "\n",
    "#pl_1 = player_1\n",
    "#pl_2 = player_2\n",
    "\n",
    "\n",
    "#player_1 = pl_1\n",
    "#player_2 = pl_2\n",
    "\n",
    "pl_1 = [\"가위\",\"바위\",\"보\"]\n",
    "pl_2 = [\"가위\",\"바위\",\"보\"]\n",
    "\n",
    "if pl_1 == pl_2:\n",
    "        print('경기 결과 : 비김')\n",
    "elif pl_2 == \"바위\":\n",
    "        print('경기 결과 : player_2 승')\n",
    "elif pl_2 == \"보\":\n",
    "        print('경기 결과 : player_1 승')\n",
    "else:\n",
    "    print(\"s\")"
   ]
  },
  {
   "cell_type": "code",
   "execution_count": 29,
   "metadata": {},
   "outputs": [
    {
     "name": "stdout",
     "output_type": "stream",
     "text": [
      "player_1 : 가위, 바위, 보 중에 하나를 입력하세요 : 가위\n",
      "player_2 : 가위, 바위, 보 중에 하나를 입력하세요 : 바위\n",
      "s\n"
     ]
    }
   ],
   "source": [
    "pl_1 = input(\"player_1 : 가위, 바위, 보 중에 하나를 입력하세요 : \")\n",
    "pl_2 = input(\"player_2 : 가위, 바위, 보 중에 하나를 입력하세요 : \")\n",
    "\n",
    "#pl_1 = player_1\n",
    "#pl_2 = player_2\n",
    "\n",
    "\n",
    "#player_1 = pl_1\n",
    "#player_2 = pl_2\n",
    "\n",
    "pl_1 = [\"가위\",\"바위\",\"보\"]\n",
    "pl_2 = [\"가위\",\"바위\",\"보\"]\n",
    "\n",
    "if pl_1 == \"가위\":\n",
    "    if pl_2 == \"가위\":\n",
    "        print('경기 결과 : 비김')        \n",
    "elif pl_2 == \"바위\":\n",
    "    print('경기 결과 : player_2 승')\n",
    "elif pl_2 == \"보\":\n",
    "    print('경기 결과 : player_1 승')\n",
    "else:\n",
    "    print(\"s\")\n"
   ]
  },
  {
   "cell_type": "code",
   "execution_count": 43,
   "metadata": {},
   "outputs": [
    {
     "name": "stdout",
     "output_type": "stream",
     "text": [
      "player_1 : 가위, 바위, 보 중에 하나를 입력하세요 : 개위~\n",
      "player_2 : 가위, 바위, 보 중에 하나를 입력하세요 : 배위~\n",
      "잘못 입력 하셨습니다.\n"
     ]
    }
   ],
   "source": [
    "#성ㅇ공~~~~~~~~~~~~~~~~~~~~~~~~~~~~~~~~~~~~~~~~~~~~~~~~~~~~~~~~~~~\n",
    "pl_1 = input(\"player_1 : 가위, 바위, 보 중에 하나를 입력하세요 : \")\n",
    "pl_2 = input(\"player_2 : 가위, 바위, 보 중에 하나를 입력하세요 : \")\n",
    "\n",
    "if (pl_1 == pl_2):\n",
    "    print('경기 결과 : 비김');\n",
    "elif (pl_1 == \"바위\"):\n",
    "    if (pl_2 == \"보\"):\n",
    "        print('경기 결과 : player_2 승')\n",
    "    else :\n",
    "        print('경기 결과 : player_1 승')\n",
    "        \n",
    "elif (pl_1 == \"보\"):\n",
    "    if (pl_2 == \"바위\"):\n",
    "        print('경기 결과 : player_1 승')\n",
    "    else :\n",
    "        print('경기 결과 : player_2 승')\n",
    "elif (pl_1 == \"가위\"):\n",
    "    if (pl_2 == \"바위\"):\n",
    "        print('경기 결과 : player_2 승')\n",
    "    else :\n",
    "        print('경기 결과 : player_1 승')        \n",
    "else:\n",
    "    print(\"잘못 입력 하셨습니다.\")\n",
    "\n",
    "    \n",
    "\n"
   ]
  },
  {
   "cell_type": "markdown",
   "metadata": {},
   "source": [
    "❓ 세번 할 수 있는 횟수 제한을 두고싶은데 잘 안되네요.\n",
    "for i in range(x)...?"
   ]
  }
 ],
 "metadata": {
  "kernelspec": {
   "display_name": "Python 3",
   "language": "python",
   "name": "python3"
  },
  "language_info": {
   "codemirror_mode": {
    "name": "ipython",
    "version": 3
   },
   "file_extension": ".py",
   "mimetype": "text/x-python",
   "name": "python",
   "nbconvert_exporter": "python",
   "pygments_lexer": "ipython3",
   "version": "3.7.6"
  }
 },
 "nbformat": 4,
 "nbformat_minor": 4
}
