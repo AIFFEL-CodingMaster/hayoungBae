{
 "cells": [
  {
   "cell_type": "markdown",
   "metadata": {
    "id": "kHSUyYfNd-IA"
   },
   "source": [
    "# 300제 시작 - 001 ~ 010\n",
    "\n",
    "\n"
   ]
  },
  {
   "cell_type": "markdown",
   "metadata": {
    "id": "qhfuuye0YIqO"
   },
   "source": [
    "001 print 기초\n",
    "\n",
    "화면에 Hello World 문자열을 출력하세요."
   ]
  },
  {
   "cell_type": "code",
   "execution_count": 1,
   "metadata": {
    "colab": {
     "base_uri": "https://localhost:8080/"
    },
    "executionInfo": {
     "elapsed": 1030,
     "status": "ok",
     "timestamp": 1610335318817,
     "user": {
      "displayName": "Hayoung Bae",
      "photoUrl": "",
      "userId": "02140682627421746648"
     },
     "user_tz": -540
    },
    "id": "FwwaC9udYIkZ",
    "outputId": "33415020-5c69-425c-c92b-18b03318b317"
   },
   "outputs": [
    {
     "name": "stdout",
     "output_type": "stream",
     "text": [
      "Hello World\n",
      "Hello World\n",
      "Hello World\n",
      "Hello World\n"
     ]
    }
   ],
   "source": [
    "print(\"Hello World\")\n",
    "\n",
    "print('Hello World')\n",
    "print('''Hello World''')\n",
    "print(\"\"\"Hello World\"\"\")"
   ]
  },
  {
   "cell_type": "markdown",
   "metadata": {
    "id": "nbTJY3i1YIeb"
   },
   "source": [
    "002 print 기초\n",
    "\n",
    "화면에 Mary's cosmetics을 출력하세요. (중간에 '가 있음에 주의하세요)\n",
    "\n"
   ]
  },
  {
   "cell_type": "code",
   "execution_count": 3,
   "metadata": {
    "colab": {
     "base_uri": "https://localhost:8080/"
    },
    "executionInfo": {
     "elapsed": 1011,
     "status": "ok",
     "timestamp": 1610340073524,
     "user": {
      "displayName": "Hayoung Bae",
      "photoUrl": "",
      "userId": "02140682627421746648"
     },
     "user_tz": -540
    },
    "id": "Rr46FduEYIY8",
    "outputId": "1744afc2-ac0a-4541-cf33-b39e0b97eaf2"
   },
   "outputs": [
    {
     "name": "stdout",
     "output_type": "stream",
     "text": [
      " Mary's cosmetics\n",
      " Mary's cosmetics\n"
     ]
    }
   ],
   "source": [
    "print(\" Mary's cosmetics\")\n",
    "\n",
    "print(' Mary\\'s cosmetics')"
   ]
  },
  {
   "cell_type": "markdown",
   "metadata": {
    "id": "b91LB65-YISA"
   },
   "source": [
    "003 print 기초\n",
    "\n",
    "화면에 아래 문장을 출력하세요. (중간에 \"가 있음에 주의하세요.)\n",
    "\n",
    "`신씨가 소리질렀다. \"도둑이야\".`"
   ]
  },
  {
   "cell_type": "code",
   "execution_count": 2,
   "metadata": {
    "colab": {
     "base_uri": "https://localhost:8080/"
    },
    "executionInfo": {
     "elapsed": 1077,
     "status": "ok",
     "timestamp": 1610340143264,
     "user": {
      "displayName": "Hayoung Bae",
      "photoUrl": "",
      "userId": "02140682627421746648"
     },
     "user_tz": -540
    },
    "id": "ts84o7jfYILz",
    "outputId": "c8c2f413-d66e-4b7c-bbea-dab0296758af"
   },
   "outputs": [
    {
     "name": "stdout",
     "output_type": "stream",
     "text": [
      "신씨가 소리질렀다. \"도둑이야\".\n",
      "신씨가 소리질렀다. \"도둑이야\".\n"
     ]
    }
   ],
   "source": [
    "print('신씨가 소리질렀다. \"도둑이야\".')\n",
    "print(\"신씨가 소리질렀다. \\\"도둑이야\\\".\")"
   ]
  },
  {
   "cell_type": "markdown",
   "metadata": {
    "id": "r4lwPHlNYICR"
   },
   "source": [
    "004 print 기초\n",
    "\n",
    "화면에 \"C:\\Windows\"를 출력하세요."
   ]
  },
  {
   "cell_type": "code",
   "execution_count": 4,
   "metadata": {
    "colab": {
     "base_uri": "https://localhost:8080/"
    },
    "executionInfo": {
     "elapsed": 1116,
     "status": "ok",
     "timestamp": 1610340251690,
     "user": {
      "displayName": "Hayoung Bae",
      "photoUrl": "",
      "userId": "02140682627421746648"
     },
     "user_tz": -540
    },
    "id": "FGZUNzlXYH8C",
    "outputId": "82db30c0-a574-4f3f-a60e-147bf4c020e4"
   },
   "outputs": [
    {
     "name": "stdout",
     "output_type": "stream",
     "text": [
      "\"C:\\Windows\"\n",
      "\"C:\\Windows\"\n"
     ]
    }
   ],
   "source": [
    "print( \"\\\"C:\\Windows\\\"\")\n",
    "print(\"\"\"\\\"C:\\Windows\\\"\"\"\")\n"
   ]
  },
  {
   "cell_type": "markdown",
   "metadata": {
    "id": "CnYeEK_iYH1V"
   },
   "source": [
    "005 print 탭과 줄바꿈\n",
    "\n",
    "다음 코드를 실행해보고 \\t와 \\n의 역할을 설명해보세요."
   ]
  },
  {
   "cell_type": "code",
   "execution_count": 5,
   "metadata": {
    "colab": {
     "base_uri": "https://localhost:8080/"
    },
    "executionInfo": {
     "elapsed": 1071,
     "status": "ok",
     "timestamp": 1610340276853,
     "user": {
      "displayName": "Hayoung Bae",
      "photoUrl": "",
      "userId": "02140682627421746648"
     },
     "user_tz": -540
    },
    "id": "h-o4kT3xYHsf",
    "outputId": "d22d62b3-5dd3-4811-966c-261c9249f51c"
   },
   "outputs": [
    {
     "name": "stdout",
     "output_type": "stream",
     "text": [
      "안녕하세요.\n",
      "만나서\t\t반갑습니다.\n"
     ]
    }
   ],
   "source": [
    "print(\"안녕하세요.\\n만나서\\t\\t반갑습니다.\")\n",
    "\n",
    "#/t는 문자열 사이에 탭간걱을 줄때 사용합니다.\n",
    "#/n은 줄바꿈문자입니다. 문자열 안에서 줄을 바꿀 때 사용합니다. "
   ]
  },
  {
   "cell_type": "markdown",
   "metadata": {
    "id": "cq8YPtcoYHiq"
   },
   "source": [
    "006 print 여러 데이터 출력\n",
    "\n",
    "print 함수에 두 개의 단어를 입력한 예제입니다. 아래 코드의 출력 결과를 예상해봅시다.\n",
    "\n",
    "print (\"오늘은\", \"일요일\")"
   ]
  },
  {
   "cell_type": "code",
   "execution_count": 6,
   "metadata": {
    "colab": {
     "base_uri": "https://localhost:8080/"
    },
    "executionInfo": {
     "elapsed": 1155,
     "status": "ok",
     "timestamp": 1610340398732,
     "user": {
      "displayName": "Hayoung Bae",
      "photoUrl": "",
      "userId": "02140682627421746648"
     },
     "user_tz": -540
    },
    "id": "8pEdvvidYHKD",
    "outputId": "abbb1acf-cc9d-4f81-db22-52b2dc55a208"
   },
   "outputs": [
    {
     "name": "stdout",
     "output_type": "stream",
     "text": [
      "오늘은 일요일\n"
     ]
    }
   ],
   "source": [
    "print (\"오늘은\", \"일요일\")  #여러 값을 출력하려면 print 함수에서 쉼표로 구분해주면 됩니다.\n",
    "\n",
    "#오늘은 일요일 "
   ]
  },
  {
   "cell_type": "markdown",
   "metadata": {
    "id": "wCgXvIjyelzR"
   },
   "source": [
    "❗007 print 기초\n",
    "\n",
    "print() 함수를 사용하여 다음과 같이 출력하세요.\n",
    "\n",
    "naver;kakao;sk;samsung"
   ]
  },
  {
   "cell_type": "code",
   "execution_count": 7,
   "metadata": {
    "colab": {
     "base_uri": "https://localhost:8080/"
    },
    "executionInfo": {
     "elapsed": 1133,
     "status": "ok",
     "timestamp": 1610340443898,
     "user": {
      "displayName": "Hayoung Bae",
      "photoUrl": "",
      "userId": "02140682627421746648"
     },
     "user_tz": -540
    },
    "id": "2DJAyQUxeljT",
    "outputId": "bab96755-6aa1-46d0-9993-9dbc9c7e7cdd"
   },
   "outputs": [
    {
     "name": "stdout",
     "output_type": "stream",
     "text": [
      "naver;kakao;sk;samsung\n",
      "naver;kakao;samsung\n"
     ]
    }
   ],
   "source": [
    "print(\"naver;kakao;sk;samsung\")\n",
    "\n",
    "print(\"naver\", \"kakao\", \"samsung\", sep=\";\")"
   ]
  },
  {
   "cell_type": "markdown",
   "metadata": {
    "id": "jUd1Z3H-emR1"
   },
   "source": [
    "008 print 기초\n",
    "\n",
    "print() 함수를 사용하여 다음과 같이 출력하세요.\n",
    "\n",
    " naver/ kakao/ sk/ samsung"
   ]
  },
  {
   "cell_type": "code",
   "execution_count": 8,
   "metadata": {
    "colab": {
     "base_uri": "https://localhost:8080/"
    },
    "executionInfo": {
     "elapsed": 1176,
     "status": "ok",
     "timestamp": 1610340581104,
     "user": {
      "displayName": "Hayoung Bae",
      "photoUrl": "",
      "userId": "02140682627421746648"
     },
     "user_tz": -540
    },
    "id": "yW7diSq9YHBj",
    "outputId": "43cd21fb-1a92-4683-d2f1-04183464209c"
   },
   "outputs": [
    {
     "name": "stdout",
     "output_type": "stream",
     "text": [
      "naver/kakao/sk/samsung\n",
      "naver/kakao/sk/samsung\n"
     ]
    }
   ],
   "source": [
    "print(\"naver/kakao/sk/samsung\")\n",
    "\n",
    "print(\"naver\",\"kakao\",\"sk\",\"samsung\", sep=\"/\")"
   ]
  },
  {
   "cell_type": "markdown",
   "metadata": {
    "id": "QI-kphtoeqQw"
   },
   "source": [
    "❗009 print 줄바꿈\n",
    "다음 코드를 수정하여 줄바꿈이 없이 출력하세요.\n",
    "\n",
    " (힌트: end='') print 함수는 두 번 사용합니다. 세미콜론 (;)은 한줄에 여러 개의 명령을 작성하기 위해 사용합니다.\n",
    "\n",
    "print(\"first\");print(\"second\")"
   ]
  },
  {
   "cell_type": "code",
   "execution_count": 9,
   "metadata": {
    "colab": {
     "base_uri": "https://localhost:8080/"
    },
    "executionInfo": {
     "elapsed": 1209,
     "status": "ok",
     "timestamp": 1610340810080,
     "user": {
      "displayName": "Hayoung Bae",
      "photoUrl": "",
      "userId": "02140682627421746648"
     },
     "user_tz": -540
    },
    "id": "WYNZL3r9ep7L",
    "outputId": "6571da1b-950a-4265-9531-b46a2cbf3466"
   },
   "outputs": [
    {
     "name": "stdout",
     "output_type": "stream",
     "text": [
      "first\n",
      "second\n",
      "firstsecond\n"
     ]
    }
   ],
   "source": [
    "print(\"first\");print(\"second\")\n",
    "\n",
    "#❗\n",
    "print(\"first\", end=\"\"); print(\"second\")"
   ]
  },
  {
   "cell_type": "markdown",
   "metadata": {
    "id": "hJhH8C3dx50A"
   },
   "source": [
    "010 연산 결과 출력\n",
    "\n",
    "5/3의 결과를 화면에 출력하세요."
   ]
  },
  {
   "cell_type": "code",
   "execution_count": 10,
   "metadata": {
    "colab": {
     "base_uri": "https://localhost:8080/"
    },
    "executionInfo": {
     "elapsed": 982,
     "status": "ok",
     "timestamp": 1610340695773,
     "user": {
      "displayName": "Hayoung Bae",
      "photoUrl": "",
      "userId": "02140682627421746648"
     },
     "user_tz": -540
    },
    "id": "g9NE26xyeqfu",
    "outputId": "829a7e45-ec83-40b6-be77-b1b1acd93354"
   },
   "outputs": [
    {
     "name": "stdout",
     "output_type": "stream",
     "text": [
      "1.6666666666666667\n"
     ]
    }
   ],
   "source": [
    "print(5/3)"
   ]
  },
  {
   "cell_type": "markdown",
   "metadata": {
    "id": "nSJ-V8-FFEqc"
   },
   "source": [
    "# 헷갈리는 개념\n"
   ]
  },
  {
   "cell_type": "code",
   "execution_count": 11,
   "metadata": {
    "colab": {
     "base_uri": "https://localhost:8080/"
    },
    "executionInfo": {
     "elapsed": 1652,
     "status": "ok",
     "timestamp": 1610351006266,
     "user": {
      "displayName": "Hayoung Bae",
      "photoUrl": "",
      "userId": "02140682627421746648"
     },
     "user_tz": -540
    },
    "id": "3juM7L59Zjs2",
    "outputId": "cebe7757-47bd-4968-f091-e2917dbd1f7c"
   },
   "outputs": [
    {
     "name": "stdout",
     "output_type": "stream",
     "text": [
      "Hello\n",
      "1234\n"
     ]
    }
   ],
   "source": [
    "print('Hello'); print('1234')"
   ]
  },
  {
   "cell_type": "code",
   "execution_count": 14,
   "metadata": {
    "colab": {
     "base_uri": "https://localhost:8080/",
     "height": 52
    },
    "executionInfo": {
     "elapsed": 15891,
     "status": "ok",
     "timestamp": 1610352833062,
     "user": {
      "displayName": "Hayoung Bae",
      "photoUrl": "",
      "userId": "02140682627421746648"
     },
     "user_tz": -540
    },
    "id": "cM62rinPZkF_",
    "outputId": "17ab33fc-389b-40f3-98d0-a3b64b673e34"
   },
   "outputs": [
    {
     "name": "stdout",
     "output_type": "stream",
     "text": [
      "hello\n"
     ]
    },
    {
     "data": {
      "text/plain": [
       "'hello'"
      ]
     },
     "execution_count": 14,
     "metadata": {},
     "output_type": "execute_result"
    }
   ],
   "source": [
    "input()"
   ]
  },
  {
   "cell_type": "code",
   "execution_count": 15,
   "metadata": {
    "colab": {
     "base_uri": "https://localhost:8080/",
     "height": 52
    },
    "executionInfo": {
     "elapsed": 6965,
     "status": "ok",
     "timestamp": 1610352845584,
     "user": {
      "displayName": "Hayoung Bae",
      "photoUrl": "",
      "userId": "02140682627421746648"
     },
     "user_tz": -540
    },
    "id": "DoG62u0Of5pY",
    "outputId": "f8773765-c0c5-40eb-f4a0-1ac46212fec2"
   },
   "outputs": [
    {
     "name": "stdout",
     "output_type": "stream",
     "text": [
      "hello\n"
     ]
    },
    {
     "data": {
      "text/plain": [
       "'hello'"
      ]
     },
     "execution_count": 15,
     "metadata": {},
     "output_type": "execute_result"
    }
   ],
   "source": [
    "input()"
   ]
  },
  {
   "cell_type": "code",
   "execution_count": 16,
   "metadata": {
    "colab": {
     "base_uri": "https://localhost:8080/"
    },
    "executionInfo": {
     "elapsed": 9878,
     "status": "ok",
     "timestamp": 1610352872205,
     "user": {
      "displayName": "Hayoung Bae",
      "photoUrl": "",
      "userId": "02140682627421746648"
     },
     "user_tz": -540
    },
    "id": "FvPkKLQwgkeZ",
    "outputId": "7ad33044-1c5b-42ad-a6b8-5d8a46a51995"
   },
   "outputs": [
    {
     "name": "stdout",
     "output_type": "stream",
     "text": [
      "hello,world\n"
     ]
    }
   ],
   "source": [
    "x = input()"
   ]
  },
  {
   "cell_type": "code",
   "execution_count": 17,
   "metadata": {
    "colab": {
     "base_uri": "https://localhost:8080/",
     "height": 35
    },
    "executionInfo": {
     "elapsed": 1044,
     "status": "ok",
     "timestamp": 1610352877447,
     "user": {
      "displayName": "Hayoung Bae",
      "photoUrl": "",
      "userId": "02140682627421746648"
     },
     "user_tz": -540
    },
    "id": "Put9hWkMgqQz",
    "outputId": "1131ab35-35ae-449e-b568-fa2ca30a29e5"
   },
   "outputs": [
    {
     "data": {
      "text/plain": [
       "'hello,world'"
      ]
     },
     "execution_count": 17,
     "metadata": {},
     "output_type": "execute_result"
    }
   ],
   "source": [
    "x"
   ]
  },
  {
   "cell_type": "code",
   "execution_count": 18,
   "metadata": {
    "colab": {
     "base_uri": "https://localhost:8080/"
    },
    "executionInfo": {
     "elapsed": 14315,
     "status": "ok",
     "timestamp": 1610352956909,
     "user": {
      "displayName": "Hayoung Bae",
      "photoUrl": "",
      "userId": "02140682627421746648"
     },
     "user_tz": -540
    },
    "id": "bMQcj_WWgtnm",
    "outputId": "18937157-92fb-4802-cc95-6d7e0d46171d"
   },
   "outputs": [
    {
     "name": "stdout",
     "output_type": "stream",
     "text": [
      "문자열 두 개를 입력하세요: happy, world\n"
     ]
    }
   ],
   "source": [
    "a, b = input('문자열 두 개를 입력하세요: ').split()    # 입력받은 값을 공백을 기준으로 분리"
   ]
  },
  {
   "cell_type": "markdown",
   "metadata": {
    "id": "KZx1dl4NesC_"
   },
   "source": [
    "# 300제 파이썬 변수 011 ~ 020"
   ]
  },
  {
   "cell_type": "markdown",
   "metadata": {
    "id": "m3M-WZ6rexIL"
   },
   "source": [
    "❗011 변수 사용하기\n",
    "\n",
    "삼성전자라는 변수로 50,000원을 바인딩해보세요. 삼성전자 주식 10주를 보유하고 있을 때 총 평가금액을 출력하세요.\n",
    "\n"
   ]
  },
  {
   "cell_type": "code",
   "execution_count": 19,
   "metadata": {
    "colab": {
     "base_uri": "https://localhost:8080/"
    },
    "executionInfo": {
     "elapsed": 1049,
     "status": "ok",
     "timestamp": 1610344417443,
     "user": {
      "displayName": "Hayoung Bae",
      "photoUrl": "",
      "userId": "02140682627421746648"
     },
     "user_tz": -540
    },
    "id": "Xn_rAn-hexcM",
    "outputId": "6ffdc505-ffb0-4285-8570-f7c3bf458a5e"
   },
   "outputs": [
    {
     "name": "stdout",
     "output_type": "stream",
     "text": [
      "500000\n"
     ]
    }
   ],
   "source": [
    "삼성전자 = 50000\n",
    " \n",
    "총평가금액 = 삼성전자 * 10\n",
    "\n",
    "print(총평가금액)"
   ]
  },
  {
   "cell_type": "markdown",
   "metadata": {
    "id": "4cSIv-nuAjv6"
   },
   "source": [
    "012 변수 사용하기\n",
    "\n",
    "다음 표는 삼성전자의 일부 투자정보입니다. 변수를 사용해서 시가총액, 현재가, PER 등을 바인딩해보세요.\n",
    "\n",
    "\n",
    "항목\t값\n",
    "시가총액\t298조\n",
    "현재가\t50,000원\n",
    "PER\t15.79\n",
    "\n",
    "\n",
    "\n",
    "\n",
    "\n"
   ]
  },
  {
   "cell_type": "code",
   "execution_count": 20,
   "metadata": {
    "colab": {
     "base_uri": "https://localhost:8080/"
    },
    "executionInfo": {
     "elapsed": 1140,
     "status": "ok",
     "timestamp": 1610351287313,
     "user": {
      "displayName": "Hayoung Bae",
      "photoUrl": "",
      "userId": "02140682627421746648"
     },
     "user_tz": -540
    },
    "id": "pGB-6ao_Aj_9",
    "outputId": "ab742873-d614-447b-c109-f13ae0dcb340"
   },
   "outputs": [
    {
     "name": "stdout",
     "output_type": "stream",
     "text": [
      "298000000000000 <class 'int'>\n",
      "50000 <class 'int'>\n",
      "15.79 <class 'float'>\n"
     ]
    }
   ],
   "source": [
    "시가총액 = 298000000000000\n",
    "현재가 = 50000\n",
    "PER = 15.79\n",
    "print(시가총액, type(시가총액))\n",
    "print(현재가, type(현재가))\n",
    "print(PER, type(PER))"
   ]
  },
  {
   "cell_type": "markdown",
   "metadata": {
    "id": "UUNu0u58AlI2"
   },
   "source": [
    "013 문자열 출력\n",
    "\n",
    "변수 s와 t에는 각각 문자열이 바인딩 되어있습니다.\n",
    "\n",
    " s = \"hello\"\n",
    " t = \"python\"\n",
    "\n",
    "두 변수를 이용하여 아래와 같이 출력해보세요.\n",
    "\n",
    "실행 예:\n",
    "\n",
    "hello! python"
   ]
  },
  {
   "cell_type": "code",
   "execution_count": 21,
   "metadata": {
    "colab": {
     "base_uri": "https://localhost:8080/"
    },
    "executionInfo": {
     "elapsed": 1128,
     "status": "ok",
     "timestamp": 1610351352691,
     "user": {
      "displayName": "Hayoung Bae",
      "photoUrl": "",
      "userId": "02140682627421746648"
     },
     "user_tz": -540
    },
    "id": "Uz-5F-GdAlyb",
    "outputId": "bc50e5c7-bb2b-4d9f-a1ce-5c173cf5b0ba"
   },
   "outputs": [
    {
     "name": "stdout",
     "output_type": "stream",
     "text": [
      "hello!python\n",
      "hello! python\n"
     ]
    }
   ],
   "source": [
    "s = \"hello\" \n",
    "t = \"python\"\n",
    "\n",
    "print(s+\"!\"+t)\n",
    "\n",
    "print(s+\"!\", t)"
   ]
  },
  {
   "cell_type": "markdown",
   "metadata": {
    "id": "hGHs8q8QAmEy"
   },
   "source": [
    "014 파이썬을 이용한 값 계산\n",
    "\n",
    "아래 코드의 실행 결과를 예상해보세요.\n",
    "\n",
    " 2 + 2 * 3 "
   ]
  },
  {
   "cell_type": "code",
   "execution_count": 22,
   "metadata": {
    "colab": {
     "base_uri": "https://localhost:8080/"
    },
    "executionInfo": {
     "elapsed": 1075,
     "status": "ok",
     "timestamp": 1610351601062,
     "user": {
      "displayName": "Hayoung Bae",
      "photoUrl": "",
      "userId": "02140682627421746648"
     },
     "user_tz": -540
    },
    "id": "50etK9Dba9FP",
    "outputId": "8efb105c-4770-4106-9178-0080d0133384"
   },
   "outputs": [
    {
     "name": "stdout",
     "output_type": "stream",
     "text": [
      "8\n"
     ]
    }
   ],
   "source": [
    "print(2 + 2 * 3)"
   ]
  },
  {
   "cell_type": "markdown",
   "metadata": {
    "id": "vG477TTaAmjt"
   },
   "source": [
    "015 type 함수\n",
    "\n",
    "type() 함수는 데이터 타입을 판별합니다. 변수 a에는 128 숫자가 바인딩돼 있어 type 함수가 int (정수)형임을 알려줍니다.\n",
    "```\n",
    ">> a = 128\n",
    ">> print (type(a))\n",
    "<class 'int'>\n",
    "아래 변수에 바인딩된 값의 타입을 판별해보세요.\n",
    "\n",
    ">> a = \"132\"\n",
    "\n",
    "```"
   ]
  },
  {
   "cell_type": "code",
   "execution_count": 23,
   "metadata": {
    "colab": {
     "base_uri": "https://localhost:8080/"
    },
    "executionInfo": {
     "elapsed": 1014,
     "status": "ok",
     "timestamp": 1610351653129,
     "user": {
      "displayName": "Hayoung Bae",
      "photoUrl": "",
      "userId": "02140682627421746648"
     },
     "user_tz": -540
    },
    "id": "4g0-HGpRAmzu",
    "outputId": "7e1f6cff-49e9-47a1-9646-61272a8305b0"
   },
   "outputs": [
    {
     "name": "stdout",
     "output_type": "stream",
     "text": [
      "<class 'str'>\n"
     ]
    }
   ],
   "source": [
    "a = \"132\"\n",
    "print(type(a))"
   ]
  },
  {
   "cell_type": "markdown",
   "metadata": {
    "id": "HsStpx2hAnC7"
   },
   "source": [
    "❗016 문자열을 정수로 변환\n",
    "\n",
    "문자열 '720'를 정수형으로 변환해보세요.\n",
    "\n",
    "num_str = \"720\"\n",
    "\n",
    "\n"
   ]
  },
  {
   "cell_type": "code",
   "execution_count": 24,
   "metadata": {
    "colab": {
     "base_uri": "https://localhost:8080/"
    },
    "executionInfo": {
     "elapsed": 979,
     "status": "ok",
     "timestamp": 1610353686180,
     "user": {
      "displayName": "Hayoung Bae",
      "photoUrl": "",
      "userId": "02140682627421746648"
     },
     "user_tz": -540
    },
    "id": "mj6yJSviaSMx",
    "outputId": "3d99a6c8-b616-4a10-b6d5-e6054d99092a"
   },
   "outputs": [
    {
     "name": "stdout",
     "output_type": "stream",
     "text": [
      "720 <class 'int'>\n"
     ]
    }
   ],
   "source": [
    "num_str = \"720\"\n",
    "\n",
    "num_int = int(num_str)\n",
    "\n",
    "print(num_int, type(num_int))"
   ]
  },
  {
   "cell_type": "markdown",
   "metadata": {
    "id": "HN_NoDO0cGG1"
   },
   "source": [
    "017 정수를 문자열 100으로 변환\n",
    "\n",
    "정수 100을 문자열 '100'으로 변환해보세요.\n",
    "\n",
    "\n",
    "\n",
    "```\n",
    "num = 100\n",
    "\n",
    "```\n",
    "\n",
    "\n"
   ]
  },
  {
   "cell_type": "code",
   "execution_count": 25,
   "metadata": {
    "colab": {
     "base_uri": "https://localhost:8080/"
    },
    "executionInfo": {
     "elapsed": 1070,
     "status": "ok",
     "timestamp": 1610353738814,
     "user": {
      "displayName": "Hayoung Bae",
      "photoUrl": "",
      "userId": "02140682627421746648"
     },
     "user_tz": -540
    },
    "id": "cv5W2sI6AnYF",
    "outputId": "e91ec884-6903-4651-c43c-b32283817f93"
   },
   "outputs": [
    {
     "name": "stdout",
     "output_type": "stream",
     "text": [
      "100 <class 'str'>\n"
     ]
    }
   ],
   "source": [
    "num = 100 \n",
    "num_str = str(num)\n",
    "\n",
    "print(num_str, type(num_str))"
   ]
  },
  {
   "cell_type": "markdown",
   "metadata": {
    "id": "YjHxX_L1dao0"
   },
   "source": [
    "018 문자열을 실수로 변환\n",
    "\n",
    "문자열 \"15.79\"를 실수(float) 타입으로 변환해보세요.\n",
    "\n"
   ]
  },
  {
   "cell_type": "code",
   "execution_count": 26,
   "metadata": {
    "colab": {
     "base_uri": "https://localhost:8080/"
    },
    "executionInfo": {
     "elapsed": 1112,
     "status": "ok",
     "timestamp": 1610353747726,
     "user": {
      "displayName": "Hayoung Bae",
      "photoUrl": "",
      "userId": "02140682627421746648"
     },
     "user_tz": -540
    },
    "id": "xJN4AorBda_v",
    "outputId": "cfd60657-7ea7-4a16-9464-555436332bec"
   },
   "outputs": [
    {
     "name": "stdout",
     "output_type": "stream",
     "text": [
      "15.79 <class 'float'>\n"
     ]
    }
   ],
   "source": [
    "x = \"15.79\"\n",
    "xfloat = float(x)\n",
    "print(xfloat, type(xfloat))\n",
    "\n"
   ]
  },
  {
   "cell_type": "markdown",
   "metadata": {
    "id": "7YVJYjMsdbUo"
   },
   "source": [
    "019 문자열을 정수로 변환\n",
    "\n",
    "year라는 변수가 문자열 타입의 연도를 바인딩하고 있습니다. 이를 정수로 변환한 후 최근 3년의 연도를 화면에 출력해보세요.\n",
    "\n",
    "\n",
    "\n",
    "```\n",
    "year = \"2020\"\n",
    "```\n",
    "\n"
   ]
  },
  {
   "cell_type": "code",
   "execution_count": 27,
   "metadata": {
    "colab": {
     "base_uri": "https://localhost:8080/"
    },
    "executionInfo": {
     "elapsed": 1022,
     "status": "ok",
     "timestamp": 1610379420356,
     "user": {
      "displayName": "Hayoung Bae",
      "photoUrl": "",
      "userId": "02140682627421746648"
     },
     "user_tz": -540
    },
    "id": "1ublbvhBdbrr",
    "outputId": "99a10e69-1688-48cb-e22e-7cd69e258b91"
   },
   "outputs": [
    {
     "name": "stdout",
     "output_type": "stream",
     "text": [
      "2020 2021 2022\n"
     ]
    }
   ],
   "source": [
    "year = \"2020\"\n",
    "\n",
    "year_int = int(year)\n",
    "print(year_int, year_int+1, year_int+2)\n",
    "\n"
   ]
  },
  {
   "cell_type": "code",
   "execution_count": 28,
   "metadata": {
    "colab": {
     "base_uri": "https://localhost:8080/"
    },
    "executionInfo": {
     "elapsed": 889,
     "status": "ok",
     "timestamp": 1610380433303,
     "user": {
      "displayName": "Hayoung Bae",
      "photoUrl": "",
      "userId": "02140682627421746648"
     },
     "user_tz": -540
    },
    "id": "zK5YybErJ0o6",
    "outputId": "dcbb0c63-e5ac-41b8-967b-0fade1472a4b"
   },
   "outputs": [
    {
     "name": "stdout",
     "output_type": "stream",
     "text": [
      "2017\n",
      "2018\n",
      "2019\n"
     ]
    }
   ],
   "source": [
    "year = \"2020\"\n",
    "print(int(year)-3)  # 2017\n",
    "print(int(year)-2)  # 2018\n",
    "print(int(year)-1)  # 2019"
   ]
  },
  {
   "cell_type": "markdown",
   "metadata": {
    "id": "gY0i8aGadf9E"
   },
   "source": [
    "020 파이썬 계산\n",
    "\n",
    "에이컨이 월 48,584원에 무이자 36개월의 조건으로 홈쇼핑에서 판매되고 있습니다. \n",
    "\n",
    "총 금액은 계산한 후 이를 화면에 출력해보세요. (변수사용하기)"
   ]
  },
  {
   "cell_type": "code",
   "execution_count": 29,
   "metadata": {
    "colab": {
     "base_uri": "https://localhost:8080/"
    },
    "executionInfo": {
     "elapsed": 973,
     "status": "ok",
     "timestamp": 1610380405652,
     "user": {
      "displayName": "Hayoung Bae",
      "photoUrl": "",
      "userId": "02140682627421746648"
     },
     "user_tz": -540
    },
    "id": "3NODF0xKdgQR",
    "outputId": "dadfca10-fbad-4783-b636-b8f2ee7e85ea"
   },
   "outputs": [
    {
     "name": "stdout",
     "output_type": "stream",
     "text": [
      "1749024\n"
     ]
    }
   ],
   "source": [
    "에어컨 = 48584 * 36\n",
    "\n",
    "print(에어컨)"
   ]
  },
  {
   "cell_type": "code",
   "execution_count": 30,
   "metadata": {
    "colab": {
     "base_uri": "https://localhost:8080/"
    },
    "executionInfo": {
     "elapsed": 952,
     "status": "ok",
     "timestamp": 1610380453884,
     "user": {
      "displayName": "Hayoung Bae",
      "photoUrl": "",
      "userId": "02140682627421746648"
     },
     "user_tz": -540
    },
    "id": "y4cTULsMJ55E",
    "outputId": "f3944ac6-3fa3-4646-e4b0-f920b7feb055"
   },
   "outputs": [
    {
     "name": "stdout",
     "output_type": "stream",
     "text": [
      "1749024\n"
     ]
    }
   ],
   "source": [
    "월 = 48584\n",
    "총금액 = 월 * 36\n",
    "print(총금액)"
   ]
  },
  {
   "cell_type": "markdown",
   "metadata": {
    "id": "2Ychv_Qxe8zj"
   },
   "source": [
    "# 300제 파이썬 문자열 - 021 ~ 050\n",
    "\n",
    "- 인덱싱\n",
    "- 슬라이싱\n",
    "- 다양한 메서드 \n"
   ]
  },
  {
   "cell_type": "markdown",
   "metadata": {
    "id": "DrIZUnA3rgMH"
   },
   "source": [
    "## 21~30"
   ]
  },
  {
   "cell_type": "markdown",
   "metadata": {
    "id": "7vnmONy7fBdd"
   },
   "source": [
    "021 문자열 인덱싱\n",
    "\n",
    "letters가 바인딩하는 문자열에서 첫번째와 세번째 문자를 출력하세요.\n",
    "\n",
    "letters = 'python'\n",
    "\n",
    "실행 예\n",
    "p t"
   ]
  },
  {
   "cell_type": "code",
   "execution_count": 31,
   "metadata": {
    "colab": {
     "base_uri": "https://localhost:8080/"
    },
    "executionInfo": {
     "elapsed": 921,
     "status": "ok",
     "timestamp": 1610381516218,
     "user": {
      "displayName": "Hayoung Bae",
      "photoUrl": "",
      "userId": "02140682627421746648"
     },
     "user_tz": -540
    },
    "id": "Ic0CQtJrfBtE",
    "outputId": "f750421b-0b0b-4e02-c86f-5ab96e6cb922"
   },
   "outputs": [
    {
     "ename": "SyntaxError",
     "evalue": "invalid character in identifier (<ipython-input-31-30dc4c30153c>, line 1)",
     "output_type": "error",
     "traceback": [
      "\u001b[0;36m  File \u001b[0;32m\"<ipython-input-31-30dc4c30153c>\"\u001b[0;36m, line \u001b[0;32m1\u001b[0m\n\u001b[0;31m    ❗lang = 'python'\u001b[0m\n\u001b[0m        ^\u001b[0m\n\u001b[0;31mSyntaxError\u001b[0m\u001b[0;31m:\u001b[0m invalid character in identifier\n"
     ]
    }
   ],
   "source": [
    "\n",
    "❗lang = 'python'\n",
    "print(lang[0], lang[2])"
   ]
  },
  {
   "cell_type": "code",
   "execution_count": 32,
   "metadata": {
    "colab": {
     "base_uri": "https://localhost:8080/"
    },
    "executionInfo": {
     "elapsed": 804,
     "status": "ok",
     "timestamp": 1610381635596,
     "user": {
      "displayName": "Hayoung Bae",
      "photoUrl": "",
      "userId": "02140682627421746648"
     },
     "user_tz": -540
    },
    "id": "xi2bGndnN_KO",
    "outputId": "400476b8-09e6-47c5-97e5-17baab771b86"
   },
   "outputs": [
    {
     "name": "stdout",
     "output_type": "stream",
     "text": [
      "2210\n"
     ]
    }
   ],
   "source": [
    "#22\n",
    "license_plate = \"24가 2210\"\n",
    "\n",
    "print(license_plate[-4:])"
   ]
  },
  {
   "cell_type": "code",
   "execution_count": 33,
   "metadata": {
    "colab": {
     "base_uri": "https://localhost:8080/"
    },
    "executionInfo": {
     "elapsed": 871,
     "status": "ok",
     "timestamp": 1610382097863,
     "user": {
      "displayName": "Hayoung Bae",
      "photoUrl": "",
      "userId": "02140682627421746648"
     },
     "user_tz": -540
    },
    "id": "lyWQRWVgN_w6",
    "outputId": "d04cdfd4-34c5-4444-8c0b-5fda4412dd56"
   },
   "outputs": [
    {
     "name": "stdout",
     "output_type": "stream",
     "text": [
      "홀홀홀\n",
      "홀홀홀\n"
     ]
    }
   ],
   "source": [
    "#23\n",
    "string = \"홀짝홀짝홀짝\"\n",
    "\n",
    "print(string[::2])\n",
    "print(string[0:5:2 ])\n"
   ]
  },
  {
   "cell_type": "code",
   "execution_count": 34,
   "metadata": {
    "colab": {
     "base_uri": "https://localhost:8080/"
    },
    "executionInfo": {
     "elapsed": 1085,
     "status": "ok",
     "timestamp": 1610382137385,
     "user": {
      "displayName": "Hayoung Bae",
      "photoUrl": "",
      "userId": "02140682627421746648"
     },
     "user_tz": -540
    },
    "id": "DdPjIfm0QNdm",
    "outputId": "ad0bb236-e13a-4224-c0d7-ceb3522055e4"
   },
   "outputs": [
    {
     "name": "stdout",
     "output_type": "stream",
     "text": [
      "NOHTYP\n"
     ]
    }
   ],
   "source": [
    "#24\n",
    "string = \"PYTHON\"\n",
    "\n",
    "print(string[::-1])"
   ]
  },
  {
   "cell_type": "code",
   "execution_count": 35,
   "metadata": {
    "colab": {
     "base_uri": "https://localhost:8080/"
    },
    "executionInfo": {
     "elapsed": 1122,
     "status": "ok",
     "timestamp": 1610388597154,
     "user": {
      "displayName": "Hayoung Bae",
      "photoUrl": "",
      "userId": "02140682627421746648"
     },
     "user_tz": -540
    },
    "id": "hQPGGWmLQXtA",
    "outputId": "6709ce97-ce8e-4962-8ebf-64fa584dae39"
   },
   "outputs": [
    {
     "name": "stdout",
     "output_type": "stream",
     "text": [
      "010 1111 2222\n"
     ]
    }
   ],
   "source": [
    "#25❗\n",
    "phone_number = \"010-1111-2222\"\n",
    "\n",
    "phone_number1 = phone_number.replace(\"-\", \" \")\n",
    "print(phone_number1)"
   ]
  },
  {
   "cell_type": "code",
   "execution_count": 36,
   "metadata": {
    "colab": {
     "base_uri": "https://localhost:8080/"
    },
    "executionInfo": {
     "elapsed": 892,
     "status": "ok",
     "timestamp": 1610388619170,
     "user": {
      "displayName": "Hayoung Bae",
      "photoUrl": "",
      "userId": "02140682627421746648"
     },
     "user_tz": -540
    },
    "id": "fsqrTHTvQXnq",
    "outputId": "ad5a0294-7bf9-4c79-a0f6-da6418019e6d"
   },
   "outputs": [
    {
     "name": "stdout",
     "output_type": "stream",
     "text": [
      "01011112222\n"
     ]
    }
   ],
   "source": [
    "#26\n",
    "phone_number2 = phone_number1.replace(\" \",\"\")\n",
    "print(phone_number2)\n",
    "\n"
   ]
  },
  {
   "cell_type": "code",
   "execution_count": 37,
   "metadata": {
    "colab": {
     "base_uri": "https://localhost:8080/"
    },
    "executionInfo": {
     "elapsed": 761,
     "status": "ok",
     "timestamp": 1610388846408,
     "user": {
      "displayName": "Hayoung Bae",
      "photoUrl": "",
      "userId": "02140682627421746648"
     },
     "user_tz": -540
    },
    "id": "lDF0qbOCQXhl",
    "outputId": "81b8a7bf-ad83-4b71-e2fc-74cdcf6ab44c"
   },
   "outputs": [
    {
     "name": "stdout",
     "output_type": "stream",
     "text": [
      "kr\n",
      "kr\n"
     ]
    }
   ],
   "source": [
    "#27❗\n",
    "url = \"http://sharebook.kr\"\n",
    "print(url[-2:])\n",
    "\n",
    "url_spilt = url.split('.')\n",
    "print(url_spilt[-1])"
   ]
  },
  {
   "cell_type": "code",
   "execution_count": 38,
   "metadata": {
    "colab": {
     "base_uri": "https://localhost:8080/",
     "height": 214
    },
    "executionInfo": {
     "elapsed": 842,
     "status": "error",
     "timestamp": 1610389190355,
     "user": {
      "displayName": "Hayoung Bae",
      "photoUrl": "",
      "userId": "02140682627421746648"
     },
     "user_tz": -540
    },
    "id": "IT1rk6qLrNQ4",
    "outputId": "0bde51f3-2c47-4445-f132-632f3adb1f32"
   },
   "outputs": [
    {
     "ename": "TypeError",
     "evalue": "'str' object does not support item assignment",
     "output_type": "error",
     "traceback": [
      "\u001b[0;31m---------------------------------------------------------------------------\u001b[0m",
      "\u001b[0;31mTypeError\u001b[0m                                 Traceback (most recent call last)",
      "\u001b[0;32m<ipython-input-38-5baa2aac43c4>\u001b[0m in \u001b[0;36m<module>\u001b[0;34m\u001b[0m\n\u001b[1;32m      1\u001b[0m \u001b[0;31m#28\u001b[0m\u001b[0;34m\u001b[0m\u001b[0;34m\u001b[0m\u001b[0;34m\u001b[0m\u001b[0m\n\u001b[1;32m      2\u001b[0m \u001b[0mlang\u001b[0m \u001b[0;34m=\u001b[0m \u001b[0;34m'python'\u001b[0m\u001b[0;34m\u001b[0m\u001b[0;34m\u001b[0m\u001b[0m\n\u001b[0;32m----> 3\u001b[0;31m \u001b[0mlang\u001b[0m\u001b[0;34m[\u001b[0m\u001b[0;36m0\u001b[0m\u001b[0;34m]\u001b[0m \u001b[0;34m=\u001b[0m \u001b[0;34m'P'\u001b[0m\u001b[0;34m\u001b[0m\u001b[0;34m\u001b[0m\u001b[0m\n\u001b[0m\u001b[1;32m      4\u001b[0m \u001b[0mprint\u001b[0m\u001b[0;34m(\u001b[0m\u001b[0mlang\u001b[0m\u001b[0;34m)\u001b[0m\u001b[0;34m\u001b[0m\u001b[0;34m\u001b[0m\u001b[0m\n\u001b[1;32m      5\u001b[0m \u001b[0;34m\u001b[0m\u001b[0m\n",
      "\u001b[0;31mTypeError\u001b[0m: 'str' object does not support item assignment"
     ]
    }
   ],
   "source": [
    "#28\n",
    "lang = 'python'\n",
    "lang[0] = 'P'\n",
    "print(lang)\n",
    "\n",
    "#문자열은 수정할 수 없습니다.\n",
    "#실행 결과를 확인해보면 문자열이 할당(assignment) 메서드를 지원하지 않음을 알 수 있습니다"
   ]
  },
  {
   "cell_type": "code",
   "execution_count": 39,
   "metadata": {
    "colab": {
     "base_uri": "https://localhost:8080/"
    },
    "executionInfo": {
     "elapsed": 960,
     "status": "ok",
     "timestamp": 1610389107868,
     "user": {
      "displayName": "Hayoung Bae",
      "photoUrl": "",
      "userId": "02140682627421746648"
     },
     "user_tz": -540
    },
    "id": "f-RiHqe0QXZg",
    "outputId": "ed2dea71-3e67-4974-fdc9-5bd2e7b66128"
   },
   "outputs": [
    {
     "name": "stdout",
     "output_type": "stream",
     "text": [
      "Abcdfe2A354A32A\n"
     ]
    }
   ],
   "source": [
    "#29\n",
    "string = 'abcdfe2a354a32a'\n",
    "string2 = string.replace('a','A')\n",
    "\n",
    "print(string2)"
   ]
  },
  {
   "cell_type": "code",
   "execution_count": 40,
   "metadata": {
    "colab": {
     "base_uri": "https://localhost:8080/"
    },
    "executionInfo": {
     "elapsed": 943,
     "status": "ok",
     "timestamp": 1610389145404,
     "user": {
      "displayName": "Hayoung Bae",
      "photoUrl": "",
      "userId": "02140682627421746648"
     },
     "user_tz": -540
    },
    "id": "LgKf__9MqddO",
    "outputId": "df43654a-3274-49b5-bbcd-8a9314ee7ecf"
   },
   "outputs": [
    {
     "name": "stdout",
     "output_type": "stream",
     "text": [
      "abcd\n"
     ]
    }
   ],
   "source": [
    "#30 \n",
    "\n",
    "string = 'abcd'\n",
    "string.replace('b', 'B')\n",
    "print(string)\n",
    "\n",
    "#abcd가 그대로 출력됩니다. 왜냐하면 문자열은 변경할 수 없는 자료형이기 때문입니다. \n",
    "#replace 메서드를 사용하면 원본은 그대로 둔채로 변경된 새로운 문자열 객체를 리턴해줍니다."
   ]
  },
  {
   "cell_type": "markdown",
   "metadata": {
    "id": "LsMEzj8xrVmm"
   },
   "source": [
    "## 31~40 문자열 "
   ]
  },
  {
   "cell_type": "code",
   "execution_count": 41,
   "metadata": {
    "colab": {
     "base_uri": "https://localhost:8080/"
    },
    "executionInfo": {
     "elapsed": 927,
     "status": "ok",
     "timestamp": 1610389315385,
     "user": {
      "displayName": "Hayoung Bae",
      "photoUrl": "",
      "userId": "02140682627421746648"
     },
     "user_tz": -540
    },
    "id": "CUcpDwhPqdYQ",
    "outputId": "cb5e3637-89ee-4744-bd05-9e14aa50b61e"
   },
   "outputs": [
    {
     "name": "stdout",
     "output_type": "stream",
     "text": [
      "34\n"
     ]
    }
   ],
   "source": [
    "#31\n",
    "a = \"3\"\n",
    "b = \"4\"\n",
    "\n",
    "print(a+b)\n",
    "\n",
    "#두 문자열에 대해 덧셈 기호는 문자열의 연결을 의미합니다.\n",
    "#따라서 \"34\"라는 새로운 문자열이 생성되고 그 값이 print 함수에 의해 화면에 출력됩니다.\n",
    "\n"
   ]
  },
  {
   "cell_type": "code",
   "execution_count": 42,
   "metadata": {
    "colab": {
     "base_uri": "https://localhost:8080/"
    },
    "executionInfo": {
     "elapsed": 846,
     "status": "ok",
     "timestamp": 1610389321637,
     "user": {
      "displayName": "Hayoung Bae",
      "photoUrl": "",
      "userId": "02140682627421746648"
     },
     "user_tz": -540
    },
    "id": "XHPNgg04qdSq",
    "outputId": "705afb95-dbc8-4209-9026-67623537c706"
   },
   "outputs": [
    {
     "name": "stdout",
     "output_type": "stream",
     "text": [
      "HiHiHi\n"
     ]
    }
   ],
   "source": [
    "#32\n",
    "print(\"Hi\" * 3)\n",
    "\n",
    "#문자열에 대한 곱셈은 문자열의 반복을 의미합니다"
   ]
  },
  {
   "cell_type": "code",
   "execution_count": 43,
   "metadata": {
    "colab": {
     "base_uri": "https://localhost:8080/"
    },
    "executionInfo": {
     "elapsed": 890,
     "status": "ok",
     "timestamp": 1610389375803,
     "user": {
      "displayName": "Hayoung Bae",
      "photoUrl": "",
      "userId": "02140682627421746648"
     },
     "user_tz": -540
    },
    "id": "o7hzCJ09qdNK",
    "outputId": "14a615d8-de06-4485-81c3-f73567f9da58"
   },
   "outputs": [
    {
     "name": "stdout",
     "output_type": "stream",
     "text": [
      "--------------------------------------------------------------------------------\n"
     ]
    }
   ],
   "source": [
    "#33\n",
    "#화면에 '-'를 80개 출력하세요.\n",
    "\n",
    "print('-' * 80)"
   ]
  },
  {
   "cell_type": "code",
   "execution_count": null,
   "metadata": {
    "colab": {
     "base_uri": "https://localhost:8080/"
    },
    "executionInfo": {
     "elapsed": 1044,
     "status": "ok",
     "timestamp": 1610389514685,
     "user": {
      "displayName": "Hayoung Bae",
      "photoUrl": "",
      "userId": "02140682627421746648"
     },
     "user_tz": -540
    },
    "id": "5GBjGkv9ryuA",
    "outputId": "b22e1678-05b9-483a-d6b9-e786ce812de8"
   },
   "outputs": [
    {
     "name": "stdout",
     "output_type": "stream",
     "text": [
      "python javapython javapython java\n",
      "python javapython javapython java\n"
     ]
    }
   ],
   "source": [
    "#34\n",
    "t1 = 'python'\n",
    "t2 = 'java'\n",
    "\n",
    "print((t1 +' ' +t2) * 3)\n",
    "\n",
    "t3 = t1 +' ' +t2\n",
    "\n",
    "print(t3 * 3)"
   ]
  },
  {
   "cell_type": "code",
   "execution_count": null,
   "metadata": {
    "colab": {
     "base_uri": "https://localhost:8080/"
    },
    "executionInfo": {
     "elapsed": 793,
     "status": "ok",
     "timestamp": 1610389705014,
     "user": {
      "displayName": "Hayoung Bae",
      "photoUrl": "",
      "userId": "02140682627421746648"
     },
     "user_tz": -540
    },
    "id": "5BY9S1VxryZW",
    "outputId": "5518b7a1-7fac-42fd-c909-e433c33afc94"
   },
   "outputs": [
    {
     "name": "stdout",
     "output_type": "stream",
     "text": [
      "이름: 김민수 나이: 10\n",
      "이름: 이철희 나이: 13\n"
     ]
    }
   ],
   "source": [
    "#35\n",
    "\n",
    "name1 = \"김민수\" \n",
    "age1 = 10\n",
    "name2 = \"이철희\"\n",
    "age2 = 13\n",
    "\n",
    "print(\"이름: %s 나이: %d\" % (name1, age1))\n",
    "print(\"이름: %s 나이: %d\" % (name2, age2))\n",
    "\n",
    "#print 포맷팅에서 %s는 문자열 데이터 타입의 값을 %d는 정수형 데이터 타입 값의 출력을 의미합니다."
   ]
  },
  {
   "cell_type": "code",
   "execution_count": null,
   "metadata": {
    "colab": {
     "base_uri": "https://localhost:8080/"
    },
    "executionInfo": {
     "elapsed": 1330,
     "status": "ok",
     "timestamp": 1610389797587,
     "user": {
      "displayName": "Hayoung Bae",
      "photoUrl": "",
      "userId": "02140682627421746648"
     },
     "user_tz": -540
    },
    "id": "TyUAcve_qdHs",
    "outputId": "829ec947-dbcf-4082-dbc7-a4ffe0564558"
   },
   "outputs": [
    {
     "name": "stdout",
     "output_type": "stream",
     "text": [
      "이름 : 김민수, 나이 : 10\n",
      "이름 : 이철희, 나이 : 13\n"
     ]
    }
   ],
   "source": [
    "#36\n",
    "\n",
    "print(\"이름 : {}, 나이 : {}\".format(name1, age1))\n",
    "print(\"이름 : {}, 나이 : {}\".format(name2, age2))"
   ]
  },
  {
   "cell_type": "code",
   "execution_count": null,
   "metadata": {
    "colab": {
     "base_uri": "https://localhost:8080/"
    },
    "executionInfo": {
     "elapsed": 932,
     "status": "ok",
     "timestamp": 1610389924250,
     "user": {
      "displayName": "Hayoung Bae",
      "photoUrl": "",
      "userId": "02140682627421746648"
     },
     "user_tz": -540
    },
    "id": "80Vy4AZmqdCS",
    "outputId": "e52b4dd1-04e8-4837-9ce7-f28937efe8d7"
   },
   "outputs": [
    {
     "name": "stdout",
     "output_type": "stream",
     "text": [
      "이름 : 김민수, 나이 : 10\n",
      "이름 : 이철희, 나이 : 13\n"
     ]
    }
   ],
   "source": [
    "#37\n",
    "\n",
    "name1 = \"김민수\" \n",
    "age1 = 10\n",
    "name2 = \"이철희\"\n",
    "age2 = 13\n",
    "\n",
    "print(f'이름 : {name1}, 나이 : {age1}')\n",
    "\n",
    "print(f'이름 : {name2}, 나이 : {age2}')"
   ]
  },
  {
   "cell_type": "code",
   "execution_count": null,
   "metadata": {
    "id": "PxP9ia_zqc8H"
   },
   "outputs": [],
   "source": [
    "#38\n",
    "\n",
    "#삼성전자의 상장주식수가 다음과 같습니다. 컴마를 제거한 후 이를 정수 타입으로 변환해보세요.\n",
    "상장주식수 = \"5,969,782,550\"\n",
    "\n"
   ]
  },
  {
   "cell_type": "code",
   "execution_count": null,
   "metadata": {
    "colab": {
     "base_uri": "https://localhost:8080/"
    },
    "executionInfo": {
     "elapsed": 819,
     "status": "ok",
     "timestamp": 1610390030337,
     "user": {
      "displayName": "Hayoung Bae",
      "photoUrl": "",
      "userId": "02140682627421746648"
     },
     "user_tz": -540
    },
    "id": "Smv0X0L0qc2j",
    "outputId": "60097959-4cf8-41c1-dafb-6b3e5ec52c88"
   },
   "outputs": [
    {
     "name": "stdout",
     "output_type": "stream",
     "text": [
      "2020/03\n"
     ]
    }
   ],
   "source": [
    "#39\n",
    "#다음과 같은 문자열에서 '2020/03'만 출력하세요.\n",
    "\n",
    "분기 = \"2020/03(E) (IFRS연결)\"\n",
    "\n",
    "print(분기[:7])"
   ]
  },
  {
   "cell_type": "code",
   "execution_count": null,
   "metadata": {
    "colab": {
     "base_uri": "https://localhost:8080/"
    },
    "executionInfo": {
     "elapsed": 831,
     "status": "ok",
     "timestamp": 1610390145129,
     "user": {
      "displayName": "Hayoung Bae",
      "photoUrl": "",
      "userId": "02140682627421746648"
     },
     "user_tz": -540
    },
    "id": "ael4Qui2qcwd",
    "outputId": "805fb712-3863-4869-8f59-c2b36baa119c"
   },
   "outputs": [
    {
     "name": "stdout",
     "output_type": "stream",
     "text": [
      "삼성전자\n"
     ]
    }
   ],
   "source": [
    "#40\n",
    "#문자열의 좌우의 공백이 있을 때 이를 제거해보세요.\n",
    "\n",
    "data = \"   삼성전자    \"\n",
    "\n",
    "data1 = data.strip()\n",
    "print(data1)"
   ]
  },
  {
   "cell_type": "markdown",
   "metadata": {
    "id": "aO0PYXRBuiXY"
   },
   "source": [
    "## 41~50"
   ]
  },
  {
   "cell_type": "code",
   "execution_count": null,
   "metadata": {
    "colab": {
     "base_uri": "https://localhost:8080/",
     "height": 35
    },
    "executionInfo": {
     "elapsed": 1059,
     "status": "ok",
     "timestamp": 1610644721217,
     "user": {
      "displayName": "Hayoung Bae",
      "photoUrl": "",
      "userId": "02140682627421746648"
     },
     "user_tz": -540
    },
    "id": "Pk0cDH1YulOt",
    "outputId": "56a2d235-b498-4620-8172-37eec3c074ca"
   },
   "outputs": [
    {
     "data": {
      "application/vnd.google.colaboratory.intrinsic+json": {
       "type": "string"
      },
      "text/plain": [
       "'BTC_KRW'"
      ]
     },
     "execution_count": 1,
     "metadata": {
      "tags": []
     },
     "output_type": "execute_result"
    }
   ],
   "source": [
    "#41\n",
    "\n",
    "ticker = \"btc_krw\"\n",
    "\n",
    "a = ticker \n",
    "\n",
    "a.upper()"
   ]
  },
  {
   "cell_type": "code",
   "execution_count": null,
   "metadata": {
    "colab": {
     "base_uri": "https://localhost:8080/",
     "height": 35
    },
    "executionInfo": {
     "elapsed": 2065,
     "status": "ok",
     "timestamp": 1610644722234,
     "user": {
      "displayName": "Hayoung Bae",
      "photoUrl": "",
      "userId": "02140682627421746648"
     },
     "user_tz": -540
    },
    "id": "MXca3j7uDtBa",
    "outputId": "69902888-7d00-4fc4-e2b2-032979a1c94c"
   },
   "outputs": [
    {
     "data": {
      "application/vnd.google.colaboratory.intrinsic+json": {
       "type": "string"
      },
      "text/plain": [
       "'btc_krw'"
      ]
     },
     "execution_count": 2,
     "metadata": {
      "tags": []
     },
     "output_type": "execute_result"
    }
   ],
   "source": [
    "#42\n",
    "a.lower()"
   ]
  },
  {
   "cell_type": "code",
   "execution_count": null,
   "metadata": {
    "id": "0PiIcZdoDs59"
   },
   "outputs": [],
   "source": [
    "#43❗  capitalize 메서드\n",
    "a = 'hello'\n",
    "a.upper()\n",
    "\n",
    "a = \"hello\"\n",
    "a = a.capitalize()"
   ]
  },
  {
   "cell_type": "code",
   "execution_count": null,
   "metadata": {
    "colab": {
     "base_uri": "https://localhost:8080/"
    },
    "executionInfo": {
     "elapsed": 2055,
     "status": "ok",
     "timestamp": 1610644722235,
     "user": {
      "displayName": "Hayoung Bae",
      "photoUrl": "",
      "userId": "02140682627421746648"
     },
     "user_tz": -540
    },
    "id": "cR_wARHSDs3Q",
    "outputId": "e4680aea-0d9a-4a25-c151-f2f2714f4a6d"
   },
   "outputs": [
    {
     "data": {
      "text/plain": [
       "True"
      ]
     },
     "execution_count": 4,
     "metadata": {
      "tags": []
     },
     "output_type": "execute_result"
    }
   ],
   "source": [
    "#44❗  endswith 메서드\n",
    "\n",
    "file_name = \"보고서.xlsx\"\n",
    "file_name.endswith(\"xlsx\")"
   ]
  },
  {
   "cell_type": "code",
   "execution_count": null,
   "metadata": {
    "colab": {
     "base_uri": "https://localhost:8080/"
    },
    "executionInfo": {
     "elapsed": 2048,
     "status": "ok",
     "timestamp": 1610644722236,
     "user": {
      "displayName": "Hayoung Bae",
      "photoUrl": "",
      "userId": "02140682627421746648"
     },
     "user_tz": -540
    },
    "id": "RgxNbuqzDs0n",
    "outputId": "02379064-071a-491c-9025-db6cac212aed"
   },
   "outputs": [
    {
     "data": {
      "text/plain": [
       "True"
      ]
     },
     "execution_count": 5,
     "metadata": {
      "tags": []
     },
     "output_type": "execute_result"
    }
   ],
   "source": [
    "file_name = \"보고서.xlsx\"\n",
    "file_name.endswith((\"xlsx\", \"xls\"))"
   ]
  },
  {
   "cell_type": "code",
   "execution_count": null,
   "metadata": {
    "colab": {
     "base_uri": "https://localhost:8080/"
    },
    "executionInfo": {
     "elapsed": 2039,
     "status": "ok",
     "timestamp": 1610644722236,
     "user": {
      "displayName": "Hayoung Bae",
      "photoUrl": "",
      "userId": "02140682627421746648"
     },
     "user_tz": -540
    },
    "id": "SAT6yG6mDsyE",
    "outputId": "fd511932-5051-413d-9920-53cf0f4c96fc"
   },
   "outputs": [
    {
     "data": {
      "text/plain": [
       "True"
      ]
     },
     "execution_count": 6,
     "metadata": {
      "tags": []
     },
     "output_type": "execute_result"
    }
   ],
   "source": [
    "#46  startswith 메서드\n",
    "file_name = \"2020_보고서.xlsx\"\n",
    "file_name.startswith(\"2020\")\n"
   ]
  },
  {
   "cell_type": "code",
   "execution_count": null,
   "metadata": {
    "colab": {
     "base_uri": "https://localhost:8080/"
    },
    "executionInfo": {
     "elapsed": 2031,
     "status": "ok",
     "timestamp": 1610644722237,
     "user": {
      "displayName": "Hayoung Bae",
      "photoUrl": "",
      "userId": "02140682627421746648"
     },
     "user_tz": -540
    },
    "id": "fiCb3ZVUDsvK",
    "outputId": "d83f583c-600a-4bf3-9754-b16debc82565"
   },
   "outputs": [
    {
     "data": {
      "text/plain": [
       "['hello', 'world']"
      ]
     },
     "execution_count": 7,
     "metadata": {
      "tags": []
     },
     "output_type": "execute_result"
    }
   ],
   "source": [
    "#47 split 메서드\n",
    "\n",
    "a = \"hello world\"\n",
    "a.split()"
   ]
  },
  {
   "cell_type": "code",
   "execution_count": null,
   "metadata": {
    "colab": {
     "base_uri": "https://localhost:8080/"
    },
    "executionInfo": {
     "elapsed": 2024,
     "status": "ok",
     "timestamp": 1610644722238,
     "user": {
      "displayName": "Hayoung Bae",
      "photoUrl": "",
      "userId": "02140682627421746648"
     },
     "user_tz": -540
    },
    "id": "NsRFRczgDssj",
    "outputId": "238e37ba-9741-401c-a00a-f55b9ee63583"
   },
   "outputs": [
    {
     "data": {
      "text/plain": [
       "['btc', 'krw']"
      ]
     },
     "execution_count": 8,
     "metadata": {
      "tags": []
     },
     "output_type": "execute_result"
    }
   ],
   "source": [
    "#48\n",
    "\n",
    "ticker = \"btc_krw\"\n",
    "\n",
    "ticker.split(\"_\")"
   ]
  },
  {
   "cell_type": "code",
   "execution_count": null,
   "metadata": {
    "colab": {
     "base_uri": "https://localhost:8080/"
    },
    "executionInfo": {
     "elapsed": 2017,
     "status": "ok",
     "timestamp": 1610644722238,
     "user": {
      "displayName": "Hayoung Bae",
      "photoUrl": "",
      "userId": "02140682627421746648"
     },
     "user_tz": -540
    },
    "id": "3NYpUO1LDskT",
    "outputId": "cf71d8e6-e226-4a56-8198-23dacadadae3"
   },
   "outputs": [
    {
     "data": {
      "text/plain": [
       "['2020', '05', '01']"
      ]
     },
     "execution_count": 9,
     "metadata": {
      "tags": []
     },
     "output_type": "execute_result"
    }
   ],
   "source": [
    "#49\n",
    "\n",
    "date = \"2020-05-01\"\n",
    "\n",
    "date.split(\"-\")"
   ]
  },
  {
   "cell_type": "code",
   "execution_count": null,
   "metadata": {
    "colab": {
     "base_uri": "https://localhost:8080/",
     "height": 35
    },
    "executionInfo": {
     "elapsed": 2010,
     "status": "ok",
     "timestamp": 1610644722239,
     "user": {
      "displayName": "Hayoung Bae",
      "photoUrl": "",
      "userId": "02140682627421746648"
     },
     "user_tz": -540
    },
    "id": "x1ldvQYSHFHU",
    "outputId": "5efd192c-2683-47bf-a504-3498099a0f96"
   },
   "outputs": [
    {
     "data": {
      "application/vnd.google.colaboratory.intrinsic+json": {
       "type": "string"
      },
      "text/plain": [
       "'039490'"
      ]
     },
     "execution_count": 10,
     "metadata": {
      "tags": []
     },
     "output_type": "execute_result"
    }
   ],
   "source": [
    "#50\n",
    "\n",
    "data = \"039490     \"\n",
    "\n",
    "data.rstrip()"
   ]
  },
  {
   "cell_type": "markdown",
   "metadata": {
    "id": "PegjHRcafErA"
   },
   "source": [
    "# 300제 파이썬 리스트 - 051 ~ 070"
   ]
  },
  {
   "cell_type": "markdown",
   "metadata": {
    "id": "pGa8zfPlHqFM"
   },
   "source": [
    "## 51~60"
   ]
  },
  {
   "cell_type": "code",
   "execution_count": null,
   "metadata": {
    "id": "bdkrVLTvfFg_"
   },
   "outputs": [],
   "source": [
    "#51 리스트 생성\n",
    "\n",
    "movie_rank = [\"닥터스트레인지\",\"스플릿\",\"럭키\"]\n"
   ]
  },
  {
   "cell_type": "code",
   "execution_count": null,
   "metadata": {
    "colab": {
     "base_uri": "https://localhost:8080/"
    },
    "executionInfo": {
     "elapsed": 1242,
     "status": "ok",
     "timestamp": 1610464096143,
     "user": {
      "displayName": "Hayoung Bae",
      "photoUrl": "",
      "userId": "02140682627421746648"
     },
     "user_tz": -540
    },
    "id": "4OXIwk4nIKXi",
    "outputId": "081462e4-b17f-4a97-9bf0-b215b76c212a"
   },
   "outputs": [
    {
     "data": {
      "text/plain": [
       "['닥터스트레인지', '스플릿', '럭키', '베트맨']"
      ]
     },
     "execution_count": 23,
     "metadata": {
      "tags": []
     },
     "output_type": "execute_result"
    }
   ],
   "source": [
    "#052 리스트에 원소 추가\n",
    "\n",
    "movie_rank.append(\"베트맨\")\n",
    "movie_rank"
   ]
  },
  {
   "cell_type": "code",
   "execution_count": null,
   "metadata": {
    "colab": {
     "base_uri": "https://localhost:8080/"
    },
    "executionInfo": {
     "elapsed": 970,
     "status": "ok",
     "timestamp": 1610464097779,
     "user": {
      "displayName": "Hayoung Bae",
      "photoUrl": "",
      "userId": "02140682627421746648"
     },
     "user_tz": -540
    },
    "id": "84tFzfX3IKQp",
    "outputId": "468497a9-6c51-4a85-b1b0-7918b8c63aee"
   },
   "outputs": [
    {
     "name": "stdout",
     "output_type": "stream",
     "text": [
      "['닥터스트레인지', '슈퍼맨', '스플릿', '럭키', '베트맨']\n"
     ]
    }
   ],
   "source": [
    "#53\n",
    "movie_rank.insert(1,\"슈퍼맨\")\n",
    "print(movie_rank)"
   ]
  },
  {
   "cell_type": "code",
   "execution_count": null,
   "metadata": {
    "colab": {
     "base_uri": "https://localhost:8080/"
    },
    "executionInfo": {
     "elapsed": 962,
     "status": "ok",
     "timestamp": 1610464647763,
     "user": {
      "displayName": "Hayoung Bae",
      "photoUrl": "",
      "userId": "02140682627421746648"
     },
     "user_tz": -540
    },
    "id": "FXtWUW15IKLZ",
    "outputId": "62126323-c090-4b14-9940-da9665dc0551"
   },
   "outputs": [
    {
     "name": "stdout",
     "output_type": "stream",
     "text": [
      "['닥터 스트레인지', '슈퍼맨', '스플릿', '배트맨']\n"
     ]
    }
   ],
   "source": [
    "#54\n",
    "movie_rank = ['닥터 스트레인지', '슈퍼맨', '스플릿', '럭키', '배트맨']\n",
    "del movie_rank[3]\n",
    "print(movie_rank)\n",
    "\n",
    "\n"
   ]
  },
  {
   "cell_type": "code",
   "execution_count": null,
   "metadata": {
    "colab": {
     "base_uri": "https://localhost:8080/"
    },
    "executionInfo": {
     "elapsed": 810,
     "status": "ok",
     "timestamp": 1610464678609,
     "user": {
      "displayName": "Hayoung Bae",
      "photoUrl": "",
      "userId": "02140682627421746648"
     },
     "user_tz": -540
    },
    "id": "Hlg1I9XIIKJF",
    "outputId": "3a1bc9d8-eef5-4863-e58e-fb147964da23"
   },
   "outputs": [
    {
     "name": "stdout",
     "output_type": "stream",
     "text": [
      "['닥터 스트레인지', '슈퍼맨', '스플릿', '배트맨']\n"
     ]
    }
   ],
   "source": [
    "movie_rank = ['닥터 스트레인지', '슈퍼맨', '스플릿', '럭키', '배트맨']\n",
    "\n",
    "movie_rank.remove(\"럭키\")\n",
    "print(movie_rank)\n"
   ]
  },
  {
   "cell_type": "code",
   "execution_count": null,
   "metadata": {
    "colab": {
     "base_uri": "https://localhost:8080/"
    },
    "executionInfo": {
     "elapsed": 846,
     "status": "ok",
     "timestamp": 1610464714538,
     "user": {
      "displayName": "Hayoung Bae",
      "photoUrl": "",
      "userId": "02140682627421746648"
     },
     "user_tz": -540
    },
    "id": "jZsJqojuIKGm",
    "outputId": "43a90af6-47fc-4418-db61-70f624f3cf48"
   },
   "outputs": [
    {
     "name": "stdout",
     "output_type": "stream",
     "text": [
      "['닥터 스트레인지', '슈퍼맨']\n"
     ]
    }
   ],
   "source": [
    "#55\n",
    "movie_rank = ['닥터 스트레인지', '슈퍼맨', '스플릿', '배트맨']\n",
    "del movie_rank[2]\n",
    "del movie_rank[2]\n",
    "print(movie_rank)"
   ]
  },
  {
   "cell_type": "code",
   "execution_count": null,
   "metadata": {
    "colab": {
     "base_uri": "https://localhost:8080/"
    },
    "executionInfo": {
     "elapsed": 891,
     "status": "ok",
     "timestamp": 1610465441756,
     "user": {
      "displayName": "Hayoung Bae",
      "photoUrl": "",
      "userId": "02140682627421746648"
     },
     "user_tz": -540
    },
    "id": "IsVQc4YLIJ_K",
    "outputId": "f854da41-6bcb-4ad8-eae3-c42e6c8d7918"
   },
   "outputs": [
    {
     "name": "stdout",
     "output_type": "stream",
     "text": [
      "['C', 'C++', 'JAVA', 'Python', 'Go', 'C#']\n"
     ]
    }
   ],
   "source": [
    "#56\n",
    "lang1 = [\"C\", \"C++\", \"JAVA\"]\n",
    "lang2 = [\"Python\", \"Go\", \"C#\"]\n",
    "\n",
    "langs = lang1 + lang2 \n",
    "print(langs)"
   ]
  },
  {
   "cell_type": "code",
   "execution_count": null,
   "metadata": {
    "colab": {
     "base_uri": "https://localhost:8080/"
    },
    "executionInfo": {
     "elapsed": 1005,
     "status": "ok",
     "timestamp": 1610465518452,
     "user": {
      "displayName": "Hayoung Bae",
      "photoUrl": "",
      "userId": "02140682627421746648"
     },
     "user_tz": -540
    },
    "id": "-oo6pbBnOJC9",
    "outputId": "74636fec-e110-4341-d1de-a14ae1870b06"
   },
   "outputs": [
    {
     "name": "stdout",
     "output_type": "stream",
     "text": [
      "max:  7\n",
      "min:  1\n"
     ]
    }
   ],
   "source": [
    "#57❗\n",
    "nums = [1, 2, 3, 4, 5, 6, 7]\n",
    "\n",
    "print(\"max: \", max(nums))\n",
    "print(\"min: \", min(nums))"
   ]
  },
  {
   "cell_type": "code",
   "execution_count": null,
   "metadata": {
    "colab": {
     "base_uri": "https://localhost:8080/"
    },
    "executionInfo": {
     "elapsed": 821,
     "status": "ok",
     "timestamp": 1610465553884,
     "user": {
      "displayName": "Hayoung Bae",
      "photoUrl": "",
      "userId": "02140682627421746648"
     },
     "user_tz": -540
    },
    "id": "lqtDvqjnOI9K",
    "outputId": "68bba5b8-bc09-4e3b-8524-3db0c4e5b43f"
   },
   "outputs": [
    {
     "name": "stdout",
     "output_type": "stream",
     "text": [
      "15\n"
     ]
    }
   ],
   "source": [
    "#58\n",
    "nums = [1, 2, 3, 4, 5]\n",
    "\n",
    "print(sum(nums))"
   ]
  },
  {
   "cell_type": "code",
   "execution_count": null,
   "metadata": {
    "colab": {
     "base_uri": "https://localhost:8080/"
    },
    "executionInfo": {
     "elapsed": 1415,
     "status": "ok",
     "timestamp": 1610465576152,
     "user": {
      "displayName": "Hayoung Bae",
      "photoUrl": "",
      "userId": "02140682627421746648"
     },
     "user_tz": -540
    },
    "id": "g0eyti9TOI5r",
    "outputId": "8ccc6d0c-a3d4-48d5-bc27-bd1988e50668"
   },
   "outputs": [
    {
     "name": "stdout",
     "output_type": "stream",
     "text": [
      "12\n"
     ]
    }
   ],
   "source": [
    "#59\n",
    "\n",
    "cook = [\"피자\", \"김밥\", \"만두\", \"양념치킨\", \"족발\", \"피자\", \"김치만두\", \"쫄면\", \"쏘세지\", \"라면\", \"팥빙수\", \"김치전\"]\n",
    "\n",
    "print(len(cook))"
   ]
  },
  {
   "cell_type": "code",
   "execution_count": null,
   "metadata": {
    "colab": {
     "base_uri": "https://localhost:8080/"
    },
    "executionInfo": {
     "elapsed": 990,
     "status": "ok",
     "timestamp": 1610465649837,
     "user": {
      "displayName": "Hayoung Bae",
      "photoUrl": "",
      "userId": "02140682627421746648"
     },
     "user_tz": -540
    },
    "id": "IGVuZ9EiOIxZ",
    "outputId": "7da7afd4-d410-4fb9-908f-2f195f3632fe"
   },
   "outputs": [
    {
     "name": "stdout",
     "output_type": "stream",
     "text": [
      "3.0\n"
     ]
    }
   ],
   "source": [
    "#60 리스트의 평균 구하기 ❗\n",
    "\n",
    "nums = [1, 2, 3, 4, 5]\n",
    "average = sum(nums) / len(nums)\n",
    "print(average)"
   ]
  },
  {
   "cell_type": "markdown",
   "metadata": {
    "id": "JDiM5SCjHto5"
   },
   "source": [
    "## 61~70"
   ]
  },
  {
   "cell_type": "code",
   "execution_count": null,
   "metadata": {
    "colab": {
     "base_uri": "https://localhost:8080/"
    },
    "executionInfo": {
     "elapsed": 1121,
     "status": "ok",
     "timestamp": 1610465928777,
     "user": {
      "displayName": "Hayoung Bae",
      "photoUrl": "",
      "userId": "02140682627421746648"
     },
     "user_tz": -540
    },
    "id": "RMp4FHXXO7nY",
    "outputId": "5c66cbf6-32e0-40c5-ca65-eb899b401146"
   },
   "outputs": [
    {
     "name": "stdout",
     "output_type": "stream",
     "text": [
      "[100, 130, 140, 150, 160, 170]\n"
     ]
    }
   ],
   "source": [
    "#61  pop() 쓴거\n",
    "price = ['20180728', 100, 130, 140, 150, 160, 170]\n",
    "\n",
    "price.pop(0)\n",
    "\n",
    "print(price)"
   ]
  },
  {
   "cell_type": "code",
   "execution_count": null,
   "metadata": {
    "colab": {
     "base_uri": "https://localhost:8080/"
    },
    "executionInfo": {
     "elapsed": 904,
     "status": "ok",
     "timestamp": 1610465977614,
     "user": {
      "displayName": "Hayoung Bae",
      "photoUrl": "",
      "userId": "02140682627421746648"
     },
     "user_tz": -540
    },
    "id": "0y3OJiJnO7k3",
    "outputId": "331111c4-ea3c-41a8-eb1c-01879d04ec43"
   },
   "outputs": [
    {
     "name": "stdout",
     "output_type": "stream",
     "text": [
      "[100, 130, 140, 150, 160, 170]\n"
     ]
    }
   ],
   "source": [
    "#61 슬라이싱 \n",
    "price = ['20180728', 100, 130, 140, 150, 160, 170]\n",
    "\n",
    "print(price[1:])"
   ]
  },
  {
   "cell_type": "code",
   "execution_count": null,
   "metadata": {
    "colab": {
     "base_uri": "https://localhost:8080/"
    },
    "executionInfo": {
     "elapsed": 840,
     "status": "ok",
     "timestamp": 1610466017990,
     "user": {
      "displayName": "Hayoung Bae",
      "photoUrl": "",
      "userId": "02140682627421746648"
     },
     "user_tz": -540
    },
    "id": "YVCUZ6KpO7iC",
    "outputId": "11ffaa86-cbeb-4a86-91fe-15f530937529"
   },
   "outputs": [
    {
     "name": "stdout",
     "output_type": "stream",
     "text": [
      "[1, 3, 5, 7, 9]\n"
     ]
    }
   ],
   "source": [
    "#62\n",
    "nums = [1, 2, 3, 4, 5, 6, 7, 8, 9, 10]\n",
    "\n",
    "print(nums[::2])"
   ]
  },
  {
   "cell_type": "code",
   "execution_count": null,
   "metadata": {
    "colab": {
     "base_uri": "https://localhost:8080/"
    },
    "executionInfo": {
     "elapsed": 1285,
     "status": "ok",
     "timestamp": 1610466079624,
     "user": {
      "displayName": "Hayoung Bae",
      "photoUrl": "",
      "userId": "02140682627421746648"
     },
     "user_tz": -540
    },
    "id": "Dzfr7UTYO7fw",
    "outputId": "5de88507-745d-4ac8-fb37-fd8da8def21e"
   },
   "outputs": [
    {
     "name": "stdout",
     "output_type": "stream",
     "text": [
      "[2, 4, 6, 8, 10]\n"
     ]
    }
   ],
   "source": [
    "#63\n",
    "\n",
    "print(nums[1::2])❗"
   ]
  },
  {
   "cell_type": "code",
   "execution_count": null,
   "metadata": {
    "colab": {
     "base_uri": "https://localhost:8080/"
    },
    "executionInfo": {
     "elapsed": 859,
     "status": "ok",
     "timestamp": 1610466141350,
     "user": {
      "displayName": "Hayoung Bae",
      "photoUrl": "",
      "userId": "02140682627421746648"
     },
     "user_tz": -540
    },
    "id": "qS1nUjZyO7dP",
    "outputId": "68e3f2c2-052d-46f4-cc81-863cc1051a45"
   },
   "outputs": [
    {
     "name": "stdout",
     "output_type": "stream",
     "text": [
      "[5, 4, 3, 2, 1]\n"
     ]
    }
   ],
   "source": [
    "#64\n",
    "nums = [1, 2, 3, 4, 5]\n",
    "nums.reverse()\n",
    "print(nums)"
   ]
  },
  {
   "cell_type": "code",
   "execution_count": null,
   "metadata": {
    "colab": {
     "base_uri": "https://localhost:8080/"
    },
    "executionInfo": {
     "elapsed": 1344,
     "status": "ok",
     "timestamp": 1610466163860,
     "user": {
      "displayName": "Hayoung Bae",
      "photoUrl": "",
      "userId": "02140682627421746648"
     },
     "user_tz": -540
    },
    "id": "bdO9fd3nO7X_",
    "outputId": "d56be280-3ea4-48ab-eb81-f1fcbfa5ff01"
   },
   "outputs": [
    {
     "name": "stdout",
     "output_type": "stream",
     "text": [
      "[5, 4, 3, 2, 1]\n"
     ]
    }
   ],
   "source": [
    "#64\n",
    "nums = [1, 2, 3, 4, 5]\n",
    "print(nums[::-1])"
   ]
  },
  {
   "cell_type": "code",
   "execution_count": null,
   "metadata": {
    "colab": {
     "base_uri": "https://localhost:8080/"
    },
    "executionInfo": {
     "elapsed": 1586,
     "status": "ok",
     "timestamp": 1610466242532,
     "user": {
      "displayName": "Hayoung Bae",
      "photoUrl": "",
      "userId": "02140682627421746648"
     },
     "user_tz": -540
    },
    "id": "wZ80haE-O7VU",
    "outputId": "7d868339-d752-49b1-ff00-62e9306ce927"
   },
   "outputs": [
    {
     "name": "stdout",
     "output_type": "stream",
     "text": [
      "['LG전자', 'Naver']\n",
      "삼성전자 Naver\n"
     ]
    }
   ],
   "source": [
    "#65❗\n",
    "\n",
    "interest = ['삼성전자', 'LG전자', 'Naver']\n",
    "\n",
    "print(interest[1:])\n",
    "\n",
    "\n",
    "print(interest[0], interest[2])"
   ]
  },
  {
   "cell_type": "code",
   "execution_count": null,
   "metadata": {
    "colab": {
     "base_uri": "https://localhost:8080/"
    },
    "executionInfo": {
     "elapsed": 1277,
     "status": "ok",
     "timestamp": 1610466408846,
     "user": {
      "displayName": "Hayoung Bae",
      "photoUrl": "",
      "userId": "02140682627421746648"
     },
     "user_tz": -540
    },
    "id": "MCn-k0tyHvld",
    "outputId": "09d9c16c-87f7-4cd5-decb-ca6d9d44281c"
   },
   "outputs": [
    {
     "name": "stdout",
     "output_type": "stream",
     "text": [
      "삼성전자 LG전자 Naver SK하이닉스 미래에셋대우\n"
     ]
    }
   ],
   "source": [
    "#66❗\n",
    "\n",
    "interest = ['삼성전자', 'LG전자', 'Naver', 'SK하이닉스', '미래에셋대우']\n",
    "\n",
    "print(\" \".join(interest))\n"
   ]
  },
  {
   "cell_type": "code",
   "execution_count": null,
   "metadata": {
    "colab": {
     "base_uri": "https://localhost:8080/"
    },
    "executionInfo": {
     "elapsed": 1715,
     "status": "ok",
     "timestamp": 1610804492738,
     "user": {
      "displayName": "Hayoung Bae",
      "photoUrl": "",
      "userId": "02140682627421746648"
     },
     "user_tz": -540
    },
    "id": "YbhJTPL06Iii",
    "outputId": "6d0ac9d8-cba4-44b7-f676-0138743b4aab"
   },
   "outputs": [
    {
     "name": "stdout",
     "output_type": "stream",
     "text": [
      "삼성전자/LG전자/Naver/SK하이닉스/미래에셋대우\n"
     ]
    }
   ],
   "source": [
    "#67\n",
    "interest = ['삼성전자', 'LG전자', 'Naver', 'SK하이닉스', '미래에셋대우']\n",
    "\n",
    "print(\"/\".join(interest))"
   ]
  },
  {
   "cell_type": "code",
   "execution_count": null,
   "metadata": {
    "colab": {
     "base_uri": "https://localhost:8080/"
    },
    "executionInfo": {
     "elapsed": 782,
     "status": "ok",
     "timestamp": 1610804525635,
     "user": {
      "displayName": "Hayoung Bae",
      "photoUrl": "",
      "userId": "02140682627421746648"
     },
     "user_tz": -540
    },
    "id": "A1RVn72i6IQV",
    "outputId": "8fc5d174-fb00-4ba5-da68-ceb057cd8f2c"
   },
   "outputs": [
    {
     "name": "stdout",
     "output_type": "stream",
     "text": [
      "삼성전자\n",
      "LG전자\n",
      "Naver\n",
      "SK하이닉스\n",
      "미래에셋대우\n"
     ]
    }
   ],
   "source": [
    "#68\n",
    "interest = ['삼성전자', 'LG전자', 'Naver', 'SK하이닉스', '미래에셋대우']\n",
    "print(\"\\n\".join(interest))"
   ]
  },
  {
   "cell_type": "code",
   "execution_count": null,
   "metadata": {
    "colab": {
     "base_uri": "https://localhost:8080/"
    },
    "executionInfo": {
     "elapsed": 729,
     "status": "ok",
     "timestamp": 1610804906811,
     "user": {
      "displayName": "Hayoung Bae",
      "photoUrl": "",
      "userId": "02140682627421746648"
     },
     "user_tz": -540
    },
    "id": "Bk4K2mHE6IGv",
    "outputId": "93c4e352-83c8-4716-f8b0-d8e75a287a3c"
   },
   "outputs": [
    {
     "name": "stdout",
     "output_type": "stream",
     "text": [
      "['삼성전자', 'LG전자', 'Naver']\n"
     ]
    }
   ],
   "source": [
    "#69❗\n",
    "string = \"삼성전자/LG전자/Naver\"\n",
    "\n",
    "interest = string.split(\"/\")\n",
    "print(interest)"
   ]
  },
  {
   "cell_type": "code",
   "execution_count": null,
   "metadata": {
    "colab": {
     "base_uri": "https://localhost:8080/"
    },
    "executionInfo": {
     "elapsed": 734,
     "status": "ok",
     "timestamp": 1610805108473,
     "user": {
      "displayName": "Hayoung Bae",
      "photoUrl": "",
      "userId": "02140682627421746648"
     },
     "user_tz": -540
    },
    "id": "qVsXN_cP6H4C",
    "outputId": "e3d5a340-f7e6-49b7-bd22-04a314eb0af8"
   },
   "outputs": [
    {
     "name": "stdout",
     "output_type": "stream",
     "text": [
      "[1, 2, 3, 4, 5, 9, 10]\n"
     ]
    }
   ],
   "source": [
    "#70\n",
    "data = [2, 4, 3, 1, 5, 10, 9]\n",
    "\n",
    "data.sort()\n",
    "print(data)"
   ]
  },
  {
   "cell_type": "code",
   "execution_count": null,
   "metadata": {
    "colab": {
     "base_uri": "https://localhost:8080/"
    },
    "executionInfo": {
     "elapsed": 938,
     "status": "ok",
     "timestamp": 1610805146643,
     "user": {
      "displayName": "Hayoung Bae",
      "photoUrl": "",
      "userId": "02140682627421746648"
     },
     "user_tz": -540
    },
    "id": "zqmoCk0md47s",
    "outputId": "fc17a1b4-5d99-4f28-a83d-ff6d4c917039"
   },
   "outputs": [
    {
     "name": "stdout",
     "output_type": "stream",
     "text": [
      "[1, 2, 3, 4, 5, 9, 10]\n"
     ]
    }
   ],
   "source": [
    "#70  ❗\n",
    "data = [2, 4, 3, 1, 5, 10, 9]\n",
    "\n",
    "data1 =sorted(data)\n",
    "print(data1)"
   ]
  },
  {
   "cell_type": "markdown",
   "metadata": {
    "id": "oKyWAkKweOOk"
   },
   "source": [
    "# 300제 파이썬 튜플 - 071 ~ 080"
   ]
  },
  {
   "cell_type": "code",
   "execution_count": null,
   "metadata": {
    "colab": {
     "base_uri": "https://localhost:8080/"
    },
    "executionInfo": {
     "elapsed": 965,
     "status": "ok",
     "timestamp": 1610807764247,
     "user": {
      "displayName": "Hayoung Bae",
      "photoUrl": "",
      "userId": "02140682627421746648"
     },
     "user_tz": -540
    },
    "id": "lmmQgEmPnoCJ",
    "outputId": "559829d2-7a91-4ace-f515-363839fef7fe"
   },
   "outputs": [
    {
     "data": {
      "text/plain": [
       "()"
      ]
     },
     "execution_count": 30,
     "metadata": {
      "tags": []
     },
     "output_type": "execute_result"
    }
   ],
   "source": [
    "#71\n",
    "my_variable = ()\n",
    "my_variable\n"
   ]
  },
  {
   "cell_type": "code",
   "execution_count": null,
   "metadata": {
    "colab": {
     "base_uri": "https://localhost:8080/"
    },
    "executionInfo": {
     "elapsed": 792,
     "status": "ok",
     "timestamp": 1610807761969,
     "user": {
      "displayName": "Hayoung Bae",
      "photoUrl": "",
      "userId": "02140682627421746648"
     },
     "user_tz": -540
    },
    "id": "Qd6lqWLZn9K_",
    "outputId": "97aee36c-0c3c-4ba3-cf59-6f6e8e0c058d"
   },
   "outputs": [
    {
     "name": "stdout",
     "output_type": "stream",
     "text": [
      "<class 'tuple'>\n"
     ]
    }
   ],
   "source": [
    "\n",
    "#확인하기\n",
    "print(type(my_variable))"
   ]
  },
  {
   "cell_type": "code",
   "execution_count": null,
   "metadata": {
    "colab": {
     "base_uri": "https://localhost:8080/"
    },
    "executionInfo": {
     "elapsed": 751,
     "status": "ok",
     "timestamp": 1610809270596,
     "user": {
      "displayName": "Hayoung Bae",
      "photoUrl": "",
      "userId": "02140682627421746648"
     },
     "user_tz": -540
    },
    "id": "_iTxbfCZn_Ty",
    "outputId": "aa0fed04-ed61-49dd-b7ee-a65e7c10c7b7"
   },
   "outputs": [
    {
     "name": "stdout",
     "output_type": "stream",
     "text": [
      "('닥터스트레인지', '스플릿', '럭키')\n"
     ]
    }
   ],
   "source": [
    "#72❗\n",
    "\n",
    "movie_rank = (\"닥터스트레인지\", \"스플릿\", \"럭키\")\n",
    "\n",
    "print(movie_rank)"
   ]
  },
  {
   "cell_type": "code",
   "execution_count": null,
   "metadata": {
    "colab": {
     "base_uri": "https://localhost:8080/"
    },
    "executionInfo": {
     "elapsed": 760,
     "status": "ok",
     "timestamp": 1610809396884,
     "user": {
      "displayName": "Hayoung Bae",
      "photoUrl": "",
      "userId": "02140682627421746648"
     },
     "user_tz": -540
    },
    "id": "PaaXTuK-twNy",
    "outputId": "d5c5544e-b847-4442-a310-37fe78ff6e3f"
   },
   "outputs": [
    {
     "name": "stdout",
     "output_type": "stream",
     "text": [
      "(1,)\n"
     ]
    },
    {
     "data": {
      "text/plain": [
       "tuple"
      ]
     },
     "execution_count": 37,
     "metadata": {
      "tags": []
     },
     "output_type": "execute_result"
    }
   ],
   "source": [
    "# 73 숫자 1이 저장된 튜플을 생성하라\n",
    "\n",
    "tuplpe = (1,)  #or tuple = 1,\n",
    "\n",
    "print(tuple)\n",
    "type(tuple)"
   ]
  },
  {
   "cell_type": "code",
   "execution_count": null,
   "metadata": {
    "colab": {
     "base_uri": "https://localhost:8080/"
    },
    "executionInfo": {
     "elapsed": 770,
     "status": "ok",
     "timestamp": 1610809405137,
     "user": {
      "displayName": "Hayoung Bae",
      "photoUrl": "",
      "userId": "02140682627421746648"
     },
     "user_tz": -540
    },
    "id": "m1XHiBVBuFE5",
    "outputId": "0a7efedd-c8d8-4c54-eb48-becb79b64d8a"
   },
   "outputs": [
    {
     "data": {
      "text/plain": [
       "int"
      ]
     },
     "execution_count": 39,
     "metadata": {
      "tags": []
     },
     "output_type": "execute_result"
    }
   ],
   "source": [
    "# tuple = (1)이거는 정수로 인식 \n",
    "\n",
    "my_tuple = (1)\n",
    "type(my_tuple)\n",
    "int "
   ]
  },
  {
   "cell_type": "code",
   "execution_count": null,
   "metadata": {
    "colab": {
     "base_uri": "https://localhost:8080/",
     "height": 203
    },
    "executionInfo": {
     "elapsed": 765,
     "status": "error",
     "timestamp": 1610809529415,
     "user": {
      "displayName": "Hayoung Bae",
      "photoUrl": "",
      "userId": "02140682627421746648"
     },
     "user_tz": -540
    },
    "id": "2k74IfGbtwLM",
    "outputId": "f428b89d-131a-4274-8390-4e6bd5f8e86b"
   },
   "outputs": [
    {
     "ename": "TypeError",
     "evalue": "ignored",
     "output_type": "error",
     "traceback": [
      "\u001b[0;31m---------------------------------------------------------------------------\u001b[0m",
      "\u001b[0;31mTypeError\u001b[0m                                 Traceback (most recent call last)",
      "\u001b[0;32m<ipython-input-40-c0d80a94adde>\u001b[0m in \u001b[0;36m<module>\u001b[0;34m()\u001b[0m\n\u001b[1;32m      2\u001b[0m \u001b[0;34m\u001b[0m\u001b[0m\n\u001b[1;32m      3\u001b[0m \u001b[0mt\u001b[0m \u001b[0;34m=\u001b[0m \u001b[0;34m(\u001b[0m\u001b[0;36m1\u001b[0m\u001b[0;34m,\u001b[0m \u001b[0;36m2\u001b[0m\u001b[0;34m,\u001b[0m \u001b[0;36m3\u001b[0m\u001b[0;34m)\u001b[0m\u001b[0;34m\u001b[0m\u001b[0;34m\u001b[0m\u001b[0m\n\u001b[0;32m----> 4\u001b[0;31m \u001b[0mt\u001b[0m\u001b[0;34m[\u001b[0m\u001b[0;36m0\u001b[0m\u001b[0;34m]\u001b[0m \u001b[0;34m=\u001b[0m \u001b[0;34m'a'\u001b[0m\u001b[0;34m\u001b[0m\u001b[0;34m\u001b[0m\u001b[0m\n\u001b[0m",
      "\u001b[0;31mTypeError\u001b[0m: 'tuple' object does not support item assignment"
     ]
    }
   ],
   "source": [
    "#74 오류 원인을 설명해봐라~\n",
    "\n",
    "t = (1, 2, 3)\n",
    "t[0] = 'a'\n",
    "\n",
    "# 튜플은 값을 바꾸지 못하기 때문에 오류가 났다.  값 = 원소(element)"
   ]
  },
  {
   "cell_type": "code",
   "execution_count": null,
   "metadata": {
    "colab": {
     "base_uri": "https://localhost:8080/"
    },
    "executionInfo": {
     "elapsed": 790,
     "status": "ok",
     "timestamp": 1610809619426,
     "user": {
      "displayName": "Hayoung Bae",
      "photoUrl": "",
      "userId": "02140682627421746648"
     },
     "user_tz": -540
    },
    "id": "M6SbBf5KtwIa",
    "outputId": "42be2890-05e4-431c-90f4-94475f8697ca"
   },
   "outputs": [
    {
     "data": {
      "text/plain": [
       "tuple"
      ]
     },
     "execution_count": 42,
     "metadata": {
      "tags": []
     },
     "output_type": "execute_result"
    }
   ],
   "source": [
    "#75 아래와 같이 t에는 1, 2, 3, 4 데이터가 바인딩되어 있다. t가 바인딩하는 데이터 타입은 무엇인가?\n",
    "t = 1, 2, 3, 4\n",
    "\n",
    "#Answer : 튜플\n",
    "type(t)\n",
    "#원칙적으로 튜플은 괄호와 함께 데이터를 정의해야 하지만, 사용자 편의를 위해 괄호 없이도 동작합니다."
   ]
  },
  {
   "cell_type": "code",
   "execution_count": null,
   "metadata": {
    "colab": {
     "base_uri": "https://localhost:8080/"
    },
    "executionInfo": {
     "elapsed": 775,
     "status": "ok",
     "timestamp": 1610809750434,
     "user": {
      "displayName": "Hayoung Bae",
      "photoUrl": "",
      "userId": "02140682627421746648"
     },
     "user_tz": -540
    },
    "id": "hjBHNqkntwFi",
    "outputId": "afd735e9-d520-411b-c8d0-79e579209f54"
   },
   "outputs": [
    {
     "name": "stdout",
     "output_type": "stream",
     "text": [
      "('A', 'b', 'c')\n"
     ]
    }
   ],
   "source": [
    "#76\n",
    "\n",
    "#변수 t에는 아래와 같은 값이 저장되어 있다. 변수 t가 ('A', 'b', 'c') 튜플을 가리키도록 수정 하라.\n",
    "t = ('a', 'b', 'c')\n",
    "\n",
    "t = ('A', 'b', 'c')  # 튜플은 값 변경이 안되므로 기존의 변수를 업데이트 해야함 \n",
    "\n",
    "print(t)"
   ]
  },
  {
   "cell_type": "code",
   "execution_count": null,
   "metadata": {
    "colab": {
     "base_uri": "https://localhost:8080/"
    },
    "executionInfo": {
     "elapsed": 974,
     "status": "ok",
     "timestamp": 1610809864934,
     "user": {
      "displayName": "Hayoung Bae",
      "photoUrl": "",
      "userId": "02140682627421746648"
     },
     "user_tz": -540
    },
    "id": "WlUYy-n_tv-E",
    "outputId": "2a1012dc-f609-4ef9-cc3c-dda3e70885a7"
   },
   "outputs": [
    {
     "name": "stdout",
     "output_type": "stream",
     "text": [
      "['삼성전자', 'LG전자', 'SK Hynix']\n"
     ]
    },
    {
     "data": {
      "text/plain": [
       "list"
      ]
     },
     "execution_count": 48,
     "metadata": {
      "tags": []
     },
     "output_type": "execute_result"
    }
   ],
   "source": [
    "#77\n",
    "#다음 튜플을 리스트로 변환하라.\n",
    "\n",
    "interest = ('삼성전자', 'LG전자', 'SK Hynix')\n",
    "\n",
    "my_int = list(interest)\n",
    "\n",
    "print(my_int)\n",
    "type(my_int)"
   ]
  },
  {
   "cell_type": "code",
   "execution_count": null,
   "metadata": {
    "id": "9rY-3c3otvxz"
   },
   "outputs": [],
   "source": [
    "\n",
    "#78\n",
    "#다음 리스트를 튜플로 변경하라.\n",
    "interest = ['삼성전자', 'LG전자', 'SK Hynix']\n",
    "​\n",
    "data = tuple(interest)\n",
    "print(data)\n",
    "type(data)\n",
    "\n",
    "\n",
    "\n",
    ">>('삼성전자', 'LG전자', 'SK Hynix')\n",
    ">>tuple"
   ]
  },
  {
   "cell_type": "code",
   "execution_count": 55,
   "metadata": {
    "colab": {
     "base_uri": "https://localhost:8080/"
    },
    "executionInfo": {
     "elapsed": 843,
     "status": "ok",
     "timestamp": 1610810870358,
     "user": {
      "displayName": "Hayoung Bae",
      "photoUrl": "",
      "userId": "02140682627421746648"
     },
     "user_tz": -540
    },
    "id": "YOFiNo9pzltV",
    "outputId": "1d90f671-0d0d-47ae-fac9-92f73e5f4894"
   },
   "outputs": [
    {
     "name": "stdout",
     "output_type": "stream",
     "text": [
      "apple banana cake\n"
     ]
    }
   ],
   "source": [
    "#80  ❗\n",
    "\n",
    "#다음 코드의 실행 결과를 예상하라.\n",
    "\n",
    "temp = ('apple', 'banana', 'cake')\n",
    "a, b, c = temp\n",
    "print(a, b, c)\n",
    "\n",
    "# 예상 :apple banana cake\n",
    "#원래는 튜플인데 리스트로 저장 \n"
   ]
  },
  {
   "cell_type": "markdown",
   "metadata": {
    "id": "MH05-IG00KZe"
   },
   "source": [
    "# 300제 파이썬 딕셔너리 - 081 ~ 100"
   ]
  },
  {
   "cell_type": "markdown",
   "metadata": {
    "id": "VdOgd5j20Gcv"
   },
   "source": [
    "## 81~90"
   ]
  },
  {
   "cell_type": "code",
   "execution_count": null,
   "metadata": {
    "id": "YBqQRlBNz0bl"
   },
   "outputs": [],
   "source": [
    "#**❗\n",
    "기본적으로 데이터 언 패킹은 좌변의 변수와 우변 데이터 개수가 같아야 합니다. 하지만 star expression을 사용하면 변수의 개수가 달라도 데이터 언패킹을 할 수 있습니다. 튜플에 저장된 데이터 중에서 앞에 있는 두 개의 데이터만 필요할 경우 나머지 데이터의 언패킹 코드를 작성할 필요가 없습니다.\n",
    "\n",
    ">> a, b, *c = (0, 1, 2, 3, 4, 5)\n",
    ">> a\n",
    "0\n",
    ">> b\n",
    "1\n",
    ">> c\n",
    "[2, 3, 4, 5]"
   ]
  },
  {
   "cell_type": "code",
   "execution_count": 56,
   "metadata": {
    "colab": {
     "base_uri": "https://localhost:8080/"
    },
    "executionInfo": {
     "elapsed": 709,
     "status": "ok",
     "timestamp": 1610811091694,
     "user": {
      "displayName": "Hayoung Bae",
      "photoUrl": "",
      "userId": "02140682627421746648"
     },
     "user_tz": -540
    },
    "id": "2JmSsQjK0UFQ",
    "outputId": "c1f67541-03c1-465c-d522-4622d04a6e24"
   },
   "outputs": [
    {
     "name": "stdout",
     "output_type": "stream",
     "text": [
      "[8.8, 8.9, 8.7, 9.2, 9.3, 9.7, 9.9, 9.5]\n"
     ]
    }
   ],
   "source": [
    "#81❗\n",
    "\n",
    "#다음과 같이 10개의 값이 저장된 scores 리스트가 있을 때,\n",
    "# start expression을 사용하여 좌측 8개의 값을 valid_score 변수에 바인딩하여라.\n",
    "\n",
    "scores = [8.8, 8.9, 8.7, 9.2, 9.3, 9.7, 9.9, 9.5, 7.8, 9.4]\n",
    "\n",
    "*valid_score, _, _= scores\n",
    "print(valid_score)"
   ]
  },
  {
   "cell_type": "code",
   "execution_count": 57,
   "metadata": {
    "colab": {
     "base_uri": "https://localhost:8080/"
    },
    "executionInfo": {
     "elapsed": 803,
     "status": "ok",
     "timestamp": 1610811369270,
     "user": {
      "displayName": "Hayoung Bae",
      "photoUrl": "",
      "userId": "02140682627421746648"
     },
     "user_tz": -540
    },
    "id": "zNzF8NIO0qfz",
    "outputId": "59c94f19-3732-43f2-a9eb-6c0d77597a69"
   },
   "outputs": [
    {
     "name": "stdout",
     "output_type": "stream",
     "text": [
      "[8.7, 9.2, 9.3, 9.7, 9.9, 9.5, 7.8, 9.4]\n"
     ]
    }
   ],
   "source": [
    "#82❗\n",
    "\n",
    "scores = [8.8, 8.9, 8.7, 9.2, 9.3, 9.7, 9.9, 9.5, 7.8, 9.4]\n",
    "\n",
    "a, b, *valid_score = scores\n",
    "print(valid_score)"
   ]
  },
  {
   "cell_type": "code",
   "execution_count": null,
   "metadata": {
    "id": "Iduq47oX1vR9"
   },
   "outputs": [],
   "source": [
    "#83 ❗\n",
    "\n",
    "a, *valid_score, b = scores\n",
    "print(valid_score)"
   ]
  },
  {
   "cell_type": "code",
   "execution_count": 58,
   "metadata": {
    "colab": {
     "base_uri": "https://localhost:8080/"
    },
    "executionInfo": {
     "elapsed": 916,
     "status": "ok",
     "timestamp": 1610811449311,
     "user": {
      "displayName": "Hayoung Bae",
      "photoUrl": "",
      "userId": "02140682627421746648"
     },
     "user_tz": -540
    },
    "id": "IVw-bXM9172X",
    "outputId": "7c6303c8-3ae3-45d9-e73a-abeeb093649e"
   },
   "outputs": [
    {
     "name": "stdout",
     "output_type": "stream",
     "text": [
      "{}\n"
     ]
    },
    {
     "data": {
      "text/plain": [
       "dict"
      ]
     },
     "execution_count": 58,
     "metadata": {
      "tags": []
     },
     "output_type": "execute_result"
    }
   ],
   "source": [
    "#84\n",
    "temp = {}\n",
    "\n",
    "print(temp)\n",
    "type(temp)"
   ]
  },
  {
   "cell_type": "code",
   "execution_count": 62,
   "metadata": {
    "colab": {
     "base_uri": "https://localhost:8080/"
    },
    "executionInfo": {
     "elapsed": 751,
     "status": "ok",
     "timestamp": 1610811588774,
     "user": {
      "displayName": "Hayoung Bae",
      "photoUrl": "",
      "userId": "02140682627421746648"
     },
     "user_tz": -540
    },
    "id": "6QiV8WQo2Bwg",
    "outputId": "10cc19a8-2776-4264-dcf8-e31b6ce90337"
   },
   "outputs": [
    {
     "name": "stdout",
     "output_type": "stream",
     "text": [
      "{'메로나': 1000, '폴라포': 1200, '빵빠레': 1800}\n"
     ]
    }
   ],
   "source": [
    "#85\n",
    "ice = {\"메로나\" : 1000, \"폴라포\" : 1200, \"빵빠레\" :1800}\n",
    "\n",
    "print(ice)"
   ]
  },
  {
   "cell_type": "code",
   "execution_count": 63,
   "metadata": {
    "colab": {
     "base_uri": "https://localhost:8080/"
    },
    "executionInfo": {
     "elapsed": 719,
     "status": "ok",
     "timestamp": 1610811625943,
     "user": {
      "displayName": "Hayoung Bae",
      "photoUrl": "",
      "userId": "02140682627421746648"
     },
     "user_tz": -540
    },
    "id": "JAPqugu82LEE",
    "outputId": "1409f164-34ae-490c-c5bd-11893070fa2c"
   },
   "outputs": [
    {
     "name": "stdout",
     "output_type": "stream",
     "text": [
      "{'메로나': 1000, '폴라포': 1200, '빵빠레': 1800, '죠스바': 1200, '월드콘': 1500}\n"
     ]
    }
   ],
   "source": [
    "#86❗\n",
    "\n",
    "ice[\"죠스바\"] = 1200\n",
    "ice[\"월드콘\"] = 1500\n",
    "print(ice)"
   ]
  },
  {
   "cell_type": "code",
   "execution_count": 65,
   "metadata": {
    "colab": {
     "base_uri": "https://localhost:8080/"
    },
    "executionInfo": {
     "elapsed": 816,
     "status": "ok",
     "timestamp": 1610812129808,
     "user": {
      "displayName": "Hayoung Bae",
      "photoUrl": "",
      "userId": "02140682627421746648"
     },
     "user_tz": -540
    },
    "id": "1GfemSXJ2bpD",
    "outputId": "bfb5e0e0-7a97-404c-8978-7fe5d162f4a8"
   },
   "outputs": [
    {
     "name": "stdout",
     "output_type": "stream",
     "text": [
      "메로나가격 1000\n"
     ]
    }
   ],
   "source": [
    "#87❗\n",
    "#다음 딕셔너리를 사용하여 메로나 가격을 출력하라.\n",
    "\n",
    "ice = {'메로나': 1000,\n",
    "       '폴로포': 1200,\n",
    "       '빵빠레': 1800,\n",
    "       '죠스바': 1200,\n",
    "       '월드콘': 1500}\n",
    "#실행 예:\n",
    "#메로나 가격: 1000\n",
    "\n",
    "print(\"메로나가격\", ice[\"메로나\"])"
   ]
  },
  {
   "cell_type": "code",
   "execution_count": 66,
   "metadata": {
    "colab": {
     "base_uri": "https://localhost:8080/"
    },
    "executionInfo": {
     "elapsed": 736,
     "status": "ok",
     "timestamp": 1610812269928,
     "user": {
      "displayName": "Hayoung Bae",
      "photoUrl": "",
      "userId": "02140682627421746648"
     },
     "user_tz": -540
    },
    "id": "3rboz2Uk4hu2",
    "outputId": "713f3338-0e24-4869-be7c-38234c9ef2ea"
   },
   "outputs": [
    {
     "name": "stdout",
     "output_type": "stream",
     "text": [
      "{'메로나': 1300, '폴로포': 1200, '빵빠레': 1800, '죠스바': 1200, '월드콘': 1500}\n"
     ]
    }
   ],
   "source": [
    "#88\n",
    "#다음 딕셔너리에서 메로나의 가격을 1300으로 수정하라.\n",
    "\n",
    "ice[\"메로나\"] = 1300\n",
    "\n",
    "print(ice)"
   ]
  },
  {
   "cell_type": "code",
   "execution_count": 68,
   "metadata": {
    "colab": {
     "base_uri": "https://localhost:8080/"
    },
    "executionInfo": {
     "elapsed": 759,
     "status": "ok",
     "timestamp": 1610812343518,
     "user": {
      "displayName": "Hayoung Bae",
      "photoUrl": "",
      "userId": "02140682627421746648"
     },
     "user_tz": -540
    },
    "id": "CbopBluQ5KJg",
    "outputId": "32f89e23-7159-4603-9446-c8fe6b4dbb3d"
   },
   "outputs": [
    {
     "name": "stdout",
     "output_type": "stream",
     "text": [
      "{'폴로포': 1200, '빵빠레': 1800, '죠스바': 1200, '월드콘': 1500}\n"
     ]
    }
   ],
   "source": [
    "#89❗\n",
    "#다음 딕셔너리에서 메로나를 삭제하라.\n",
    "\n",
    "del ice[\"메로나\"]\n",
    "\n",
    "print(ice)"
   ]
  },
  {
   "cell_type": "code",
   "execution_count": null,
   "metadata": {
    "id": "rw-WYKEE5NWR"
   },
   "outputs": [],
   "source": [
    "#90\n",
    "\n",
    "다음 코드에서 에러가 발생한 원인을 설명하라.\n",
    "\n",
    ">> icecream = {'폴라포': 1200, '빵빠레': 1800, '월드콘': 1500, '메로나': 1000}\n",
    ">> icecream['누가바']\n",
    "Traceback (most recent call last):\n",
    "  File \"<pyshell#69>\", line 1, in <module>\n",
    "    icecream['누가바']\n",
    "KeyError: '누가바'\n",
    "\n",
    "# \"누가바\"라는 키값이 딕셔너리에 없기 때문에 에러가 난다.\n",
    "\n",
    "인덱싱(Indexing)이란 무엇인가를 \"가리킨다\"는 의미\n",
    "#딕셔너리에 없는 키를 사용해서 인덱싱하면 에러가 발생합니다."
   ]
  },
  {
   "cell_type": "markdown",
   "metadata": {
    "id": "P-wYj8K_82jS"
   },
   "source": [
    "## 91~100"
   ]
  },
  {
   "cell_type": "code",
   "execution_count": 72,
   "metadata": {
    "colab": {
     "base_uri": "https://localhost:8080/"
    },
    "executionInfo": {
     "elapsed": 749,
     "status": "ok",
     "timestamp": 1610813437414,
     "user": {
      "displayName": "Hayoung Bae",
      "photoUrl": "",
      "userId": "02140682627421746648"
     },
     "user_tz": -540
    },
    "id": "t0l6kwLI82Wa",
    "outputId": "bd624ce0-e3db-45f4-a22f-f517a4584f0f"
   },
   "outputs": [
    {
     "name": "stdout",
     "output_type": "stream",
     "text": [
      "{'메로나': (300, 20), '비비빅': (400, 3), '죠스바': (250, 100)}\n"
     ]
    },
    {
     "data": {
      "text/plain": [
       "dict"
      ]
     },
     "execution_count": 72,
     "metadata": {
      "tags": []
     },
     "output_type": "execute_result"
    }
   ],
   "source": [
    "#91\n",
    "#아래의 표에서, 아이스크림 이름을 키값으로, (가격, 재고) 리스트를 딕셔너리의 값으로 저장하라.\n",
    "#딕셔너리의 이름은 inventory로 한다.\n",
    "\n",
    "inventory = {'메로나':(300,20), '비비빅' : (400,3), '죠스바':(250,100) }\n",
    "\n",
    "print(inventory)\n",
    "\n",
    "type(inventory)"
   ]
  },
  {
   "cell_type": "code",
   "execution_count": 71,
   "metadata": {
    "colab": {
     "base_uri": "https://localhost:8080/"
    },
    "executionInfo": {
     "elapsed": 877,
     "status": "ok",
     "timestamp": 1610813428989,
     "user": {
      "displayName": "Hayoung Bae",
      "photoUrl": "",
      "userId": "02140682627421746648"
     },
     "user_tz": -540
    },
    "id": "61bPLLG19hD-",
    "outputId": "a5e82722-be90-419d-ed5a-8c22b0eeebc6"
   },
   "outputs": [
    {
     "name": "stdout",
     "output_type": "stream",
     "text": [
      "{'메로나': [300, 20], '비비빅': [400, 3], '죠스바': [250, 100]}\n"
     ]
    }
   ],
   "source": [
    "inventory1 = {\"메로나\": [300, 20], \n",
    "             \"비비빅\": [400, 3], \n",
    "             \"죠스바\": [250, 100]}\n",
    "print(inventory1)\n"
   ]
  },
  {
   "cell_type": "code",
   "execution_count": null,
   "metadata": {
    "id": "2ZjIQq4M8ys9"
   },
   "outputs": [],
   "source": [
    "#92 딕셔너리 인덱싱 ❗\n",
    "inventory 딕셔너리에서 메로나의 가격을 화면에 출력하라.\n",
    "\n",
    "inventory = {\"메로나\": [300, 20],\n",
    "              \"비비빅\": [400, 3],\n",
    "              \"죠스바\": [250, 100]}\n",
    "실행 예시:\n",
    "300 원\n",
    "\n"
   ]
  },
  {
   "cell_type": "code",
   "execution_count": 73,
   "metadata": {
    "colab": {
     "base_uri": "https://localhost:8080/"
    },
    "executionInfo": {
     "elapsed": 684,
     "status": "ok",
     "timestamp": 1610813554703,
     "user": {
      "displayName": "Hayoung Bae",
      "photoUrl": "",
      "userId": "02140682627421746648"
     },
     "user_tz": -540
    },
    "id": "VwzfeUA_9sOp",
    "outputId": "ca9b2aed-ac9e-4e44-fd4e-f02d2ada8e8b"
   },
   "outputs": [
    {
     "name": "stdout",
     "output_type": "stream",
     "text": [
      "300 원\n"
     ]
    }
   ],
   "source": [
    "print(inventory[\"메로나\"][0],\"원\")"
   ]
  },
  {
   "cell_type": "code",
   "execution_count": 75,
   "metadata": {
    "executionInfo": {
     "elapsed": 929,
     "status": "ok",
     "timestamp": 1610813971233,
     "user": {
      "displayName": "Hayoung Bae",
      "photoUrl": "",
      "userId": "02140682627421746648"
     },
     "user_tz": -540
    },
    "id": "6ISICQDq-D0O"
   },
   "outputs": [],
   "source": [
    "#93  ❗\n",
    "#inventory 딕셔너리에서 메로나의 재고를 화면에 출력하라.\n",
    "\n",
    "inventory = {\"메로나\": [300, 20],\n",
    "              \"비비빅\": [400, 3],\n",
    "              \"죠스바\": [250, 100]}\n",
    "#실행 예시:\n",
    "#20개"
   ]
  },
  {
   "cell_type": "code",
   "execution_count": 79,
   "metadata": {
    "colab": {
     "base_uri": "https://localhost:8080/"
    },
    "executionInfo": {
     "elapsed": 708,
     "status": "ok",
     "timestamp": 1610814011030,
     "user": {
      "displayName": "Hayoung Bae",
      "photoUrl": "",
      "userId": "02140682627421746648"
     },
     "user_tz": -540
    },
    "id": "fMJ_gjOt_fIL",
    "outputId": "730b3394-2f50-492d-b399-6da119db7a21"
   },
   "outputs": [
    {
     "name": "stdout",
     "output_type": "stream",
     "text": [
      "20 개\n"
     ]
    }
   ],
   "source": [
    "print(inventory[\"메로나\"][1], \"개\")"
   ]
  },
  {
   "cell_type": "code",
   "execution_count": 80,
   "metadata": {
    "colab": {
     "base_uri": "https://localhost:8080/"
    },
    "executionInfo": {
     "elapsed": 875,
     "status": "ok",
     "timestamp": 1610814098327,
     "user": {
      "displayName": "Hayoung Bae",
      "photoUrl": "",
      "userId": "02140682627421746648"
     },
     "user_tz": -540
    },
    "id": "dzKs1JnX_mla",
    "outputId": "ae521675-6d92-447b-b0d8-3a484a5133f6"
   },
   "outputs": [
    {
     "name": "stdout",
     "output_type": "stream",
     "text": [
      "{'메로나': [300, 20], '비비빅': [400, 3], '죠스바': [250, 100], '월드콘': [500, 7]}\n"
     ]
    }
   ],
   "source": [
    "#94\n",
    "\n",
    "inventory[\"월드콘\"] = ([500,7])\n",
    "\n",
    "print(inventory)"
   ]
  },
  {
   "cell_type": "code",
   "execution_count": 81,
   "metadata": {
    "colab": {
     "base_uri": "https://localhost:8080/"
    },
    "executionInfo": {
     "elapsed": 700,
     "status": "ok",
     "timestamp": 1610814126158,
     "user": {
      "displayName": "Hayoung Bae",
      "photoUrl": "",
      "userId": "02140682627421746648"
     },
     "user_tz": -540
    },
    "id": "_TCn7wIlAIfs",
    "outputId": "dce0fd6e-eea1-4f58-b211-ada1499e05ae"
   },
   "outputs": [
    {
     "data": {
      "text/plain": [
       "dict_keys(['탱크보이', '폴라포', '빵빠레', '월드콘', '메로나'])"
      ]
     },
     "execution_count": 81,
     "metadata": {
      "tags": []
     },
     "output_type": "execute_result"
    }
   ],
   "source": [
    "#95\n",
    "icecream = {'탱크보이': 1200, '폴라포': 1200, '빵빠레': 1800, '월드콘': 1500, '메로나': 1000}\n",
    "\n",
    "icecream.keys()"
   ]
  },
  {
   "cell_type": "code",
   "execution_count": 82,
   "metadata": {
    "colab": {
     "base_uri": "https://localhost:8080/"
    },
    "executionInfo": {
     "elapsed": 793,
     "status": "ok",
     "timestamp": 1610814137457,
     "user": {
      "displayName": "Hayoung Bae",
      "photoUrl": "",
      "userId": "02140682627421746648"
     },
     "user_tz": -540
    },
    "id": "XzY9WftIAPVJ",
    "outputId": "e7b70746-8178-40e2-d6ad-e4947318e9dc"
   },
   "outputs": [
    {
     "name": "stdout",
     "output_type": "stream",
     "text": [
      "['탱크보이', '폴라포', '빵빠레', '월드콘', '메로나']\n"
     ]
    }
   ],
   "source": [
    "#  ❗\n",
    "ice = list(icecream.keys()) \n",
    "print(ice)"
   ]
  },
  {
   "cell_type": "code",
   "execution_count": 83,
   "metadata": {
    "colab": {
     "base_uri": "https://localhost:8080/"
    },
    "executionInfo": {
     "elapsed": 942,
     "status": "ok",
     "timestamp": 1610814193230,
     "user": {
      "displayName": "Hayoung Bae",
      "photoUrl": "",
      "userId": "02140682627421746648"
     },
     "user_tz": -540
    },
    "id": "3mWgvO-bASEn",
    "outputId": "b6613500-8837-4bd4-86fe-ac9f58c5ee11"
   },
   "outputs": [
    {
     "name": "stdout",
     "output_type": "stream",
     "text": [
      "[1200, 1200, 1800, 1500, 1000]\n"
     ]
    }
   ],
   "source": [
    "#96\n",
    "ice = list(icecream.values())\n",
    "\n",
    "print(ice)"
   ]
  },
  {
   "cell_type": "code",
   "execution_count": null,
   "metadata": {
    "id": "9Z31pN0OAly1"
   },
   "outputs": [],
   "source": [
    "#97\n",
    "\n",
    "icecream = {'탱크보이': 1200, '폴라포': 1200, '빵빠레': 1800, '월드콘': 1500, '메로나': 1000}\n",
    "print(sum(icecream.values()))\n",
    "\n",
    ">>6700"
   ]
  },
  {
   "cell_type": "code",
   "execution_count": 91,
   "metadata": {
    "colab": {
     "base_uri": "https://localhost:8080/"
    },
    "executionInfo": {
     "elapsed": 878,
     "status": "ok",
     "timestamp": 1610814401992,
     "user": {
      "displayName": "Hayoung Bae",
      "photoUrl": "",
      "userId": "02140682627421746648"
     },
     "user_tz": -540
    },
    "id": "5Z6Q2-omBAjM",
    "outputId": "f60f69c8-b591-4d87-e984-dfa7f38a4183"
   },
   "outputs": [
    {
     "name": "stdout",
     "output_type": "stream",
     "text": [
      "{'탱크보이': 1200, '폴라포': 1200, '빵빠레': 1800, '월드콘': 1500, '메로나': 1000, '팥빙수': 2700, '아맛나': 1000}\n"
     ]
    }
   ],
   "source": [
    "#98❗\n",
    "icecream = {'탱크보이': 1200, '폴라포': 1200, '빵빠레': 1800, '월드콘': 1500, '메로나': 1000}\n",
    "new_product = {'팥빙수':2700, '아맛나':1000}\n",
    "\n",
    "icecream.update(new_product)\n",
    "print(icecream)"
   ]
  },
  {
   "cell_type": "code",
   "execution_count": 92,
   "metadata": {
    "colab": {
     "base_uri": "https://localhost:8080/"
    },
    "executionInfo": {
     "elapsed": 791,
     "status": "ok",
     "timestamp": 1610814678240,
     "user": {
      "displayName": "Hayoung Bae",
      "photoUrl": "",
      "userId": "02140682627421746648"
     },
     "user_tz": -540
    },
    "id": "cL2STNB7BOgB",
    "outputId": "8202a9cd-9f08-4b0f-e8d7-757d6d90b16f"
   },
   "outputs": [
    {
     "name": "stdout",
     "output_type": "stream",
     "text": [
      "{'apple': 300, 'pear': 250, 'peach': 400}\n"
     ]
    }
   ],
   "source": [
    "#99 ❗\n",
    "#아래 두 개의 튜플을 하나의 딕셔너리로 변환하라. keys를 키로, vals를 값으로 result 이름의 딕셔너리로 저장한다.\n",
    "\n",
    "keys = (\"apple\", \"pear\", \"peach\")\n",
    "vals = (300, 250, 400)\n",
    "\n",
    "result = dict(zip(keys, vals))\n",
    "print(result)"
   ]
  },
  {
   "cell_type": "code",
   "execution_count": 94,
   "metadata": {
    "executionInfo": {
     "elapsed": 796,
     "status": "ok",
     "timestamp": 1610814692394,
     "user": {
      "displayName": "Hayoung Bae",
      "photoUrl": "",
      "userId": "02140682627421746648"
     },
     "user_tz": -540
    },
    "id": "WvYJIqgbCPJ8"
   },
   "outputs": [],
   "source": [
    "#100❗\n",
    "\n",
    "#date와 close_price 두 개의 리스트를 close_table 이름의 딕셔너리로 생성하라.\n",
    "\n",
    "date = ['09/05', '09/06', '09/07', '09/08', '09/09']\n",
    "close_price = [10500, 10300, 10100, 10800, 11000]"
   ]
  }
 ],
 "metadata": {
  "kernelspec": {
   "display_name": "Python 3",
   "language": "python",
   "name": "python3"
  },
  "language_info": {
   "codemirror_mode": {
    "name": "ipython",
    "version": 3
   },
   "file_extension": ".py",
   "mimetype": "text/x-python",
   "name": "python",
   "nbconvert_exporter": "python",
   "pygments_lexer": "ipython3",
   "version": "3.7.6"
  }
 },
 "nbformat": 4,
 "nbformat_minor": 4
}
